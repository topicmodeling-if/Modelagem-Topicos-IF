{
 "cells": [
  {
   "cell_type": "markdown",
   "metadata": {
    "id": "q-jcVg0rTXG7"
   },
   "source": [
    "# Base de dados\n"
   ]
  },
  {
   "cell_type": "code",
   "execution_count": null,
   "metadata": {
    "colab": {
     "base_uri": "https://localhost:8080/"
    },
    "id": "fu0fcH8Ms67R",
    "outputId": "81045495-5b1d-441a-d4a1-7e9773601105"
   },
   "outputs": [],
   "source": [
    "import pandas as pd\n",
    "\n",
    "dataSetIfg = pd.read_csv('sentimento_negative.csv')\n",
    "\n",
    "\n",
    "# Exibir as primeiras linhas para verificar se a leitura foi correta\n",
    "print(dataSetIfg.head())"
   ]
  },
  {
   "cell_type": "code",
   "execution_count": null,
   "metadata": {
    "colab": {
     "base_uri": "https://localhost:8080/"
    },
    "id": "bv2GS322srt2",
    "outputId": "13f3bdc4-e37a-49b0-98ce-9196c4acc19e"
   },
   "outputs": [],
   "source": [
    "print(dataSetIfg.columns)"
   ]
  },
  {
   "cell_type": "code",
   "execution_count": null,
   "metadata": {
    "colab": {
     "base_uri": "https://localhost:8080/"
    },
    "id": "QiqH1mKk2XYQ",
    "outputId": "59be4732-ad85-41b9-b34a-61acb5f44787"
   },
   "outputs": [],
   "source": [
    "num_linhas = dataSetIfg.shape[0]\n",
    "print(f\"Quantidade de linhas: {num_linhas}\")"
   ]
  },
  {
   "cell_type": "markdown",
   "metadata": {
    "id": "btiHYgTZT_i_"
   },
   "source": [
    "# Pré-processamento"
   ]
  },
  {
   "cell_type": "markdown",
   "metadata": {
    "id": "eZ2tk0mi1jAW"
   },
   "source": [
    "## Limpar texto e Aplicar TF - Histograma das palavras mais frequentes"
   ]
  },
  {
   "cell_type": "code",
   "execution_count": null,
   "metadata": {
    "colab": {
     "base_uri": "https://localhost:8080/"
    },
    "id": "E6Y_7oN920aZ",
    "outputId": "14130a50-b0ab-4cb1-d72b-44d2ea64da27"
   },
   "outputs": [],
   "source": [
    "import pandas as pd\n",
    "import re\n",
    "\n",
    "# Função para limpar o texto\n",
    "def clean_text(text):\n",
    "    if isinstance(text, str):  # Verifica se é uma string\n",
    "        # Remove URLs\n",
    "        text = re.sub(r'http\\S+|www\\S+|https\\S+', '', text, flags=re.MULTILINE)\n",
    "        # Remove hashtags\n",
    "        text = re.sub(r'#\\S+', '', text)\n",
    "        # Remove menções\n",
    "        text = re.sub(r'@\\S+', '', text)\n",
    "        return text\n",
    "    return text  # Retorna o texto original se não for uma string\n",
    "\n",
    "# Função para remover palavras ofensivas\n",
    "def remove_offensive_words(text, offensive_words):\n",
    "    if isinstance(text, str):  # Verifica se é uma string\n",
    "        words = text.split()  # Divide o texto em palavras\n",
    "        cleaned_words = [word for word in words if word.lower() not in offensive_words]\n",
    "        return ' '.join(cleaned_words)\n",
    "    return text  # Retorna o texto original se não for uma string\n",
    "\n",
    "# Lista de palavras ofensivas\n",
    "offensive_words = ['vtnc', 'porra', 'desgraca', 'desgraça', 'puto', 'foder', 'vsf', 'puta', 'caralho']\n",
    "\n",
    "# Aplicar as funções no dataset\n",
    "dataSetIfg['x'] = dataSetIfg['x'].apply(clean_text)\n",
    "dataSetIfg['Message_Cleaned'] = dataSetIfg['x'].apply(lambda x: remove_offensive_words(x, offensive_words))\n",
    "\n",
    "# Verificar as primeiras linhas\n",
    "print(dataSetIfg[['x', 'Message_Cleaned']])\n"
   ]
  },
  {
   "cell_type": "markdown",
   "metadata": {
    "id": "7pzTYkEgWoH6"
   },
   "source": [
    "## Histograma de palavras mais frequentes"
   ]
  },
  {
   "cell_type": "code",
   "execution_count": null,
   "metadata": {
    "colab": {
     "base_uri": "https://localhost:8080/"
    },
    "id": "469hDoGM280r",
    "outputId": "b7209302-ae69-4ed9-c6a8-02d285ced08d"
   },
   "outputs": [],
   "source": [
    "# Load the regular expression library\n",
    "import re\n",
    "\n",
    "# Remover pontuação, garantindo que o valor seja uma string\n",
    "dataSetIfg['text_processed'] = dataSetIfg['Message_Cleaned'].map(\n",
    "    lambda x: re.sub('[,\\.!?]', '', x) if isinstance(x, str) else x\n",
    ")\n",
    "\n",
    "# Converter para letras minúsculas, garantindo novamente o tipo string\n",
    "dataSetIfg['text_processed'] = dataSetIfg['text_processed'].map(\n",
    "    lambda x: x.lower() if isinstance(x, str) else x\n",
    ")\n",
    "\n",
    "# Exibir as primeiras linhas do resultado\n",
    "print(dataSetIfg['text_processed'].head())\n"
   ]
  },
  {
   "cell_type": "code",
   "execution_count": null,
   "metadata": {
    "colab": {
     "base_uri": "https://localhost:8080/",
     "height": 54
    },
    "id": "hfuQ0Nbs1BkR",
    "outputId": "7106b568-48a0-44b8-caa7-79e12f6012e3"
   },
   "outputs": [],
   "source": [
    "from collections import Counter\n",
    "import matplotlib.pyplot as plt\n",
    "\n",
    "# Separar todas as palavras\n",
    "all_words = []\n",
    "for message in dataSetIfg['text_processed']:\n",
    "    if isinstance(message, str):  # Verifica se o valor é uma string\n",
    "        all_words.extend(message.split())  # Divide o texto em palavras e adiciona à lista\n",
    "\n",
    "# Calcular a frequência total das palavras (TF)\n",
    "total_words = len(all_words)\n",
    "word_counts = Counter(all_words)\n",
    "tf = {word: count / total_words for word, count in word_counts.items()}\n",
    "\n",
    "# Ordenar palavras pelo TF em ordem decrescente e pegar as 50 mais frequentes\n",
    "sorted_tf = sorted(tf.items(), key=lambda x: x[1], reverse=True)[:50]\n",
    "\n",
    "# Separar palavras e valores de TF\n",
    "words = [item[0] for item in sorted_tf]\n",
    "tf_values = [item[1] for item in sorted_tf]\n",
    "\n",
    "# Gerar histograma das palavras mais frequentes pelo TF\n",
    "plt.figure(figsize=(15, 8))\n",
    "plt.bar(words, tf_values, color='steelblue')\n",
    "plt.xlabel('Palavras', fontsize=14)\n",
    "plt.ylabel('TF (Frequência Relativa)', fontsize=14)\n",
    "plt.title('50 Palavras mais frequentes pelo TF', fontsize=16)\n",
    "plt.xticks(rotation=45, ha='right', fontsize=10)\n",
    "plt.grid(axis='y', linestyle='--', alpha=0.7)\n",
    "\n",
    "plt.tight_layout()\n",
    "plt.show()\n"
   ]
  },
  {
   "cell_type": "code",
   "execution_count": null,
   "metadata": {
    "colab": {
     "base_uri": "https://localhost:8080/",
     "height": 54
    },
    "id": "hgBlIGX-3xL0",
    "outputId": "f5fdc286-f4fd-4da5-d0eb-dd2ac1df97db"
   },
   "outputs": [],
   "source": [
    "from collections import Counter\n",
    "import matplotlib.pyplot as plt\n",
    "\n",
    "# Separar todas as palavras\n",
    "all_words = []\n",
    "for message in dataSetIfg['text_processed']:\n",
    "    if isinstance(message, str):  # Verifica se o valor é uma string\n",
    "        all_words.extend(message.split())  # Divide o texto em palavras e adiciona à lista\n",
    "\n",
    "# Calcular a frequência absoluta das palavras\n",
    "word_counts = Counter(all_words)\n",
    "\n",
    "# Ordenar palavras pelo total em ordem decrescente e pegar as 100 mais frequentes\n",
    "sorted_word_counts = word_counts.most_common(100)\n",
    "\n",
    "# Separar palavras e suas contagens absolutas\n",
    "words = [item[0] for item in sorted_word_counts]\n",
    "word_totals = [item[1] for item in sorted_word_counts]\n",
    "\n",
    "# Gerar histograma das palavras mais frequentes pelo total\n",
    "plt.figure(figsize=(20, 10))\n",
    "plt.bar(words, word_totals, color='steelblue')\n",
    "plt.xlabel('Palavras', fontsize=14)\n",
    "plt.ylabel('Frequência Absoluta', fontsize=14)\n",
    "plt.title('50 Palavras mais frequentes (Frequência Absoluta)', fontsize=16)\n",
    "plt.xticks(rotation=45, ha='right', fontsize=10)\n",
    "plt.grid(axis='y', linestyle='--', alpha=0.7)\n",
    "\n",
    "plt.tight_layout()\n",
    "plt.show()\n"
   ]
  },
  {
   "cell_type": "code",
   "execution_count": null,
   "metadata": {
    "colab": {
     "base_uri": "https://localhost:8080/"
    },
    "id": "I0Ca2-YK40JC",
    "outputId": "08cf03a9-6734-4774-8aa5-45d0aef5c139"
   },
   "outputs": [],
   "source": [
    "# Extrair as palavras com aspas simples\n",
    "frequent_words = [f\"'{item[0]}'\" for item in sorted_word_counts]\n",
    "\n",
    "# Gerar texto com as palavras separadas por vírgula\n",
    "words_text = ', '.join(frequent_words)\n",
    "\n",
    "# Imprimir o resultado\n",
    "print(\"Palavras mais frequentes:\")\n",
    "print(words_text)"
   ]
  },
  {
   "cell_type": "markdown",
   "metadata": {
    "id": "AVZFuajh1YGm"
   },
   "source": [
    "## Remover StopWords\n"
   ]
  },
  {
   "cell_type": "code",
   "execution_count": null,
   "metadata": {
    "colab": {
     "base_uri": "https://localhost:8080/"
    },
    "id": "mR8S7sWVtZbF",
    "outputId": "ba2e46d8-745a-43b1-d0e1-b9a41adf07a3"
   },
   "outputs": [],
   "source": [
    "import nltk\n",
    "from nltk.corpus import stopwords\n",
    "\n",
    "# Baixe o conjunto de stop words (apenas na primeira vez que executar)\n",
    "nltk.download('stopwords')"
   ]
  },
  {
   "cell_type": "code",
   "execution_count": null,
   "metadata": {
    "colab": {
     "base_uri": "https://localhost:8080/"
    },
    "id": "qNHrobZ1wmvq",
    "outputId": "1ba2797d-bd1d-45e5-df99-dbbaf87d3cb6"
   },
   "outputs": [],
   "source": [
    "import gensim\n",
    "from gensim.utils import simple_preprocess\n",
    "import nltk\n",
    "nltk.download('stopwords')\n",
    "from nltk.corpus import stopwords\n",
    "\n",
    "# Corrigir a extensão das stopwords\n",
    "stop_words = stopwords.words('portuguese')\n",
    "stop_words.extend(['do', 'no', 'de', 'e', 'a', 'eu', 'que', 'o', 'é', 'da', 'em', 'na', 'não', 'pra', 'um', 'com', 'q', 'me', 'uma', 'se', 'ifs', 'ifba', 'mais', 'os', 'ifsc', 'para', 'meu', 'minha', 'as', 'só', 'vou', 'buts', 'mas', 'tem', 'por', 'dia', 'foi', 'prova', 'vai', 'ifma', 'como', 'fazer', 'pq', 'ifal', 'ter', 'ano', 'já', 'ser', 'esse', 'dos', 'isso', 'n', 'quando', 'muito', 'até', 'campus', 'essa', 'tá', 'era', 'ifam', 'tô', 'gente', 'ele', '-', 'hoje', 'lá', 'ifpi', 'vc', 'ifrn', 'nem', 'nao', 'ainda', 'to', 'ifsp', 'ela', 'todo', 'passar', 'ifce', 'das', 'tenho', 'ou', 'tava', 'curso', 'tudo', 'aqui', 'assim', 'são', 'anos', 'agora', 'ver', 'ir', 'sem', 'nunca', 'tinha', 'quem'])\n",
    "\n",
    "def sent_to_words(sentences):\n",
    "    for sentence in sentences:\n",
    "        yield(gensim.utils.simple_preprocess(str(sentence), deacc=True))\n",
    "\n",
    "def remove_stopwords(texts):\n",
    "    return [[word for word in simple_preprocess(str(doc))\n",
    "             if word not in stop_words] for doc in texts]\n",
    "\n",
    "# Pré-processamento dos dados\n",
    "data = dataSetIfg.text_processed.values.tolist()\n",
    "data_words = list(sent_to_words(data))\n",
    "\n",
    "# Remover stop words\n",
    "data_words = remove_stopwords(data_words)\n",
    "\n",
    "# Imprimir os primeiros resultados processados\n",
    "print(data_words[:1][0][:30])"
   ]
  },
  {
   "cell_type": "code",
   "execution_count": null,
   "metadata": {
    "colab": {
     "base_uri": "https://localhost:8080/"
    },
    "id": "pj58tIUB2Q5d",
    "outputId": "82db2270-981d-45f6-c283-633c526b5781"
   },
   "outputs": [],
   "source": [
    "print(len(data_words))"
   ]
  },
  {
   "cell_type": "code",
   "execution_count": null,
   "metadata": {
    "colab": {
     "base_uri": "https://localhost:8080/",
     "height": 54
    },
    "id": "YLjluWYK3Fop",
    "outputId": "c593b89d-01ce-4161-fbe1-f2faf8c4b74e"
   },
   "outputs": [],
   "source": [
    "\n",
    "# Importar a biblioteca wordcloud\n",
    "from wordcloud import WordCloud\n",
    "\n",
    "# Juntar as palavras processadas (depois da remoção das stopwords) em uma única string\n",
    "long_string = ','.join([' '.join(doc) for doc in data_words])\n",
    "\n",
    "# Criar a WordCloud\n",
    "wordcloud = WordCloud(background_color=\"white\", max_words=100, contour_width=3, contour_color='steelblue')\n",
    "\n",
    "# Gerar a nuvem de palavras\n",
    "wordcloud.generate(long_string)\n",
    "\n",
    "# Visualizar a WordCloud\n",
    "wordcloud.to_image()"
   ]
  },
  {
   "cell_type": "markdown",
   "metadata": {
    "id": "wo2Vl6CXUIPL"
   },
   "source": [
    "# Mineração - LDA"
   ]
  },
  {
   "cell_type": "code",
   "execution_count": null,
   "metadata": {
    "colab": {
     "base_uri": "https://localhost:8080/"
    },
    "id": "wPjc8fztwN3Z",
    "outputId": "001450b8-89da-4f5a-ed00-8ca7d7009953"
   },
   "outputs": [],
   "source": [
    "import gensim.corpora as corpora\n",
    "\n",
    "# Create Dictionary\n",
    "id2word = corpora.Dictionary(data_words)\n",
    "\n",
    "# Create Corpus\n",
    "texts = data_words\n",
    "\n",
    "# Term Document Frequency\n",
    "corpus = [id2word.doc2bow(text) for text in texts]\n",
    "\n",
    "# View\n",
    "print(corpus[:1][0][:30])"
   ]
  },
  {
   "cell_type": "markdown",
   "metadata": {
    "id": "EHffa3RFbfL2"
   },
   "source": [
    "# BERTopic - Lemantização e Tokenização"
   ]
  },
  {
   "cell_type": "code",
   "execution_count": null,
   "metadata": {
    "colab": {
     "base_uri": "https://localhost:8080/"
    },
    "id": "eFIp8Ev-NNN1",
    "outputId": "c3a6f744-1e38-40e1-e822-ba3205d71892"
   },
   "outputs": [],
   "source": [
    "pip install bertopic"
   ]
  },
  {
   "cell_type": "code",
   "execution_count": null,
   "metadata": {
    "colab": {
     "base_uri": "https://localhost:8080/"
    },
    "id": "fqm3AJXog9Jk",
    "outputId": "3816bc63-bae8-40b5-818c-dcbea4cb206b"
   },
   "outputs": [],
   "source": [
    "import gensim\n",
    "from gensim.utils import simple_preprocess\n",
    "import nltk\n",
    "nltk.download('stopwords')\n",
    "from nltk.corpus import stopwords\n",
    "\n",
    "# Corrigir a extensão das stopwords\n",
    "stop_words_bert = stopwords.words('portuguese')\n",
    "\n",
    "def sent_to_words(sentences):\n",
    "    for sentence in sentences:\n",
    "        yield(gensim.utils.simple_preprocess(str(sentence), deacc=True))\n",
    "\n",
    "# Pré-processamento dos dados\n",
    "data_bert = dataSetIfg.text_processed.values.tolist()\n",
    "data_words_bert = list(sent_to_words(data_bert))\n",
    "\n",
    "# Imprimir os primeiros resultados processados\n",
    "print(data_words_bert[:1][0][:30])"
   ]
  },
  {
   "cell_type": "code",
   "execution_count": null,
   "metadata": {
    "colab": {
     "base_uri": "https://localhost:8080/"
    },
    "id": "-VWD_84DhN0E",
    "outputId": "1f5b97e2-e371-4f71-af6b-ef1dba087d24"
   },
   "outputs": [],
   "source": [
    "import gensim.corpora as corpora\n",
    "\n",
    "# Create Dictionary\n",
    "id2wordBERT = corpora.Dictionary(data_words_bert)\n",
    "\n",
    "# Create Corpus\n",
    "texts_bert = data_words_bert\n",
    "\n",
    "# Term Document Frequency\n",
    "corpusBERT = [id2wordBERT.doc2bow(text) for text in texts_bert]\n",
    "\n",
    "# View\n",
    "print(corpusBERT[:1][0][:30])"
   ]
  },
  {
   "cell_type": "code",
   "execution_count": null,
   "metadata": {
    "id": "3mFNNJeoNSJM"
   },
   "outputs": [],
   "source": [
    "import nltk\n",
    "import gensim\n",
    "import gensim.corpora as corpora\n",
    "import pandas as pd\n",
    "import numpy as np\n",
    "from bertopic import BERTopic\n",
    "from sentence_transformers import SentenceTransformer\n",
    "from umap import UMAP\n",
    "from hdbscan import HDBSCAN\n",
    "from nltk.stem import WordNetLemmatizer\n",
    "from nltk.tokenize import word_tokenize\n",
    "from sklearn.feature_extraction.text import CountVectorizer\n",
    "from bertopic.vectorizers import ClassTfidfTransformer\n",
    "from gensim.models.coherencemodel import CoherenceModel"
   ]
  },
  {
   "cell_type": "code",
   "execution_count": null,
   "metadata": {
    "colab": {
     "base_uri": "https://localhost:8080/"
    },
    "id": "HCWhhL6fOf-t",
    "outputId": "95fb4533-6f4f-4b7a-e0d4-5c47be038049"
   },
   "outputs": [],
   "source": [
    "import nltk\n",
    "\n",
    "# Downloading necessary NLTK data\n",
    "nltk.download('punkt')\n",
    "nltk.download('wordnet')\n",
    "nltk.download('omw-1.4')\n",
    "nltk.download('punkt_tab') # Download the missing punkt_tab data package\n",
    "\n",
    "from nltk.tokenize import word_tokenize\n",
    "from nltk.stem import WordNetLemmatizer\n",
    "\n",
    "# Initializing the lemmatizer\n",
    "lemmatizer = WordNetLemmatizer()\n",
    "\n",
    "# List to store processed text\n",
    "filtered_text = [\n",
    "    ' '.join([lemmatizer.lemmatize(word) for word in word_tokenize(' '.join(doc)) if word.isalpha()])\n",
    "    for doc in texts_bert\n",
    "]\n",
    "\n",
    "# Check the first few entries after preprocessing\n",
    "print(filtered_text[:10])"
   ]
  },
  {
   "cell_type": "markdown",
   "metadata": {
    "id": "k7ywjltqH6ol"
   },
   "source": [
    "#  Etapas - BERTopic\n",
    "- Sbert\n",
    "- UMAP\n",
    "- HDBSCAN\n",
    "- C-TF-IDF"
   ]
  },
  {
   "cell_type": "code",
   "execution_count": null,
   "metadata": {
    "id": "QqCWCvbLQctV"
   },
   "outputs": [],
   "source": [
    "#embedding_model = SentenceTransformer(\"all-MiniLM-L6-v2\")"
   ]
  },
  {
   "cell_type": "code",
   "execution_count": null,
   "metadata": {
    "id": "wojIa-J2QkJE"
   },
   "outputs": [],
   "source": [
    "umap_model = UMAP(n_neighbors=15, n_components=5, min_dist=0.0, metric='cosine')"
   ]
  },
  {
   "cell_type": "code",
   "execution_count": null,
   "metadata": {
    "colab": {
     "base_uri": "https://localhost:8080/"
    },
    "id": "VvLgB3IDSxf3",
    "outputId": "2bbd1a30-3ef1-4213-f002-0c5eff290f74"
   },
   "outputs": [],
   "source": [
    "print(len(filtered_text))"
   ]
  },
  {
   "cell_type": "code",
   "execution_count": null,
   "metadata": {
    "id": "4eNyD_9vQlEv"
   },
   "outputs": [],
   "source": [
    "hdbscan_model = HDBSCAN(min_cluster_size=15, metric='euclidean', cluster_selection_method='eom', prediction_data=True)"
   ]
  },
  {
   "cell_type": "code",
   "execution_count": null,
   "metadata": {
    "id": "rVdl9HGzYBUY"
   },
   "outputs": [],
   "source": [
    "#!pip install spacy\n",
    "#!python -m spacy download pt_core_news_sm"
   ]
  },
  {
   "cell_type": "code",
   "execution_count": null,
   "metadata": {
    "id": "zy9jxlgGYCbu"
   },
   "outputs": [],
   "source": [
    "import spacy\n",
    "from bertopic import BERTopic\n",
    "from sklearn.feature_extraction.text import CountVectorizer\n",
    "\n",
    "# Carregue o modelo de português do spaCy\n",
    "#nlp = spacy.load(\"pt_core_news_sm\")\n",
    "#portuguese_stop_words = nlp.Defaults.stop_words\n"
   ]
  },
  {
   "cell_type": "code",
   "execution_count": null,
   "metadata": {
    "id": "MmEx6CbxQnO2"
   },
   "outputs": [],
   "source": [
    "vectorizer_model = CountVectorizer(stop_words=stop_words_bert)"
   ]
  },
  {
   "cell_type": "code",
   "execution_count": null,
   "metadata": {
    "id": "Mu3RzpApQqbh"
   },
   "outputs": [],
   "source": [
    "ctfidf_model = ClassTfidfTransformer()"
   ]
  },
  {
   "cell_type": "code",
   "execution_count": null,
   "metadata": {
    "id": "W1JmtyRzQtGC"
   },
   "outputs": [],
   "source": [
    "#topic_model = BERTopic(\n",
    "  #embedding_model=embedding_model,    # Step 1 - Extract embeddings\n",
    "  #umap_model=umap_model,              # Step 2 - Reduce dimensionality\n",
    "  #hdbscan_model=hdbscan_model,        # Step 3 - Cluster reduced embeddings\n",
    "  #vectorizer_model=vectorizer_model,  # Step 4 - Tokenize topics\n",
    "  #ctfidf_model=ctfidf_model,          # Step 5 - Extract topic words\n",
    "  #nr_topics=2\n",
    "#)"
   ]
  },
  {
   "cell_type": "markdown",
   "metadata": {
    "id": "C6K2Vh0mrYcy"
   },
   "source": [
    "# NMF\n"
   ]
  },
  {
   "cell_type": "code",
   "execution_count": null,
   "metadata": {
    "id": "kV_PNfZStuUw"
   },
   "outputs": [],
   "source": [
    "import pandas as pd\n",
    "from sklearn.feature_extraction.text import TfidfVectorizer\n",
    "from sklearn.decomposition import NMF\n",
    "from gensim.corpora.dictionary import Dictionary\n",
    "from gensim.models import CoherenceModel\n",
    "import matplotlib.pyplot as plt"
   ]
  },
  {
   "cell_type": "code",
   "execution_count": null,
   "metadata": {
    "id": "j137V_jEsxR4"
   },
   "outputs": [],
   "source": [
    "from sklearn.feature_extraction.text import TfidfVectorizer\n",
    "from sklearn.decomposition import NMF\n",
    "from sklearn.preprocessing import normalize\n",
    "\n",
    "# Vetorização TF-IDF\n",
    "vectorizer = TfidfVectorizer(\n",
    "    #max_features=1000,  # Número de palavras para manter\n",
    "    #stop_words='english',  # Remove stopwords\n",
    "    lowercase=True,  # Converte para minúsculas\n",
    ")\n",
    "tfidf = vectorizer.fit_transform(filtered_text)"
   ]
  },
  {
   "cell_type": "code",
   "execution_count": null,
   "metadata": {
    "id": "KrcyeRPrsMqZ"
   },
   "outputs": [],
   "source": [
    "# Configuração do NMF\n",
    "nmf_model = NMF(n_components=5, random_state=42)  # 5 tópicos\n",
    "# Ajustar o modelo aos dados\n",
    "W = nmf_model.fit_transform(tfidf)  # Documentos x Tópicos\n",
    "H = nmf_model.components_  # Tópicos x Palavras"
   ]
  },
  {
   "cell_type": "code",
   "execution_count": null,
   "metadata": {
    "colab": {
     "base_uri": "https://localhost:8080/"
    },
    "id": "4oAUx03qsn0O",
    "outputId": "a3c16548-f7d4-419f-c4c8-71fb53d55ef3"
   },
   "outputs": [],
   "source": [
    "import numpy as np\n",
    "\n",
    "# Obter as palavras do vocabulário\n",
    "palavras = vectorizer.get_feature_names_out()\n",
    "\n",
    "# Exibir os tópicos\n",
    "for i, topic in enumerate(H):\n",
    "    top_palavras = [palavras[i] for i in topic.argsort()[-10:]]  # 10 palavras mais relevantes\n",
    "    print(f\"Tópico {i+1}: {', '.join(top_palavras)}\")"
   ]
  },
  {
   "cell_type": "code",
   "execution_count": null,
   "metadata": {
    "colab": {
     "base_uri": "https://localhost:8080/"
    },
    "id": "wL8MjGiotKOg",
    "outputId": "1ae69e28-51b8-476c-8599-29b2268ff3e5"
   },
   "outputs": [],
   "source": [
    "# Adicionando os pesos para os tópicos nos documentos\n",
    "df_topics = pd.DataFrame(W, columns=[f\"Tópico {i+1}\" for i in range(W.shape[1])])\n",
    "print(df_topics.head())"
   ]
  },
  {
   "cell_type": "code",
   "execution_count": null,
   "metadata": {},
   "outputs": [],
   "source": [
    "vectorizer = TfidfVectorizer(max_features=1000)  \n",
    "tfidf_matrix = vectorizer.fit_transform(filtered_text)\n",
    "feature_names = vectorizer.get_feature_names_out()"
   ]
  },
  {
   "cell_type": "markdown",
   "metadata": {
    "id": "rSN9mfLTSrDc"
   },
   "source": [
    "# Intervalo de confiança Coerencia\n"
   ]
  },
  {
   "cell_type": "code",
   "execution_count": null,
   "metadata": {},
   "outputs": [],
   "source": [
    "import pickle\n",
    "import numpy as np\n",
    "from bertopic import BERTopic\n",
    "from sentence_transformers import SentenceTransformer\n",
    "from gensim.models import LdaModel\n",
    "from sklearn.decomposition import NMF\n",
    "from sklearn.feature_extraction.text import TfidfVectorizer\n",
    "from sklearn.model_selection import KFold\n",
    "from random import randint\n",
    "from gensim.models.coherencemodel import CoherenceModel\n",
    "from gensim.corpora import Dictionary\n",
    "from transformers import AutoModel, AutoTokenizer\n",
    "import torch\n",
    "\n",
    "# Classe personalizada para usar o modelo salvo como SentenceTransformer\n",
    "class CustomSentenceTransformer:\n",
    "    def __init__(self, model_name_or_path, **kwargs):\n",
    "        self.model = AutoModel.from_pretrained(model_name_or_path)\n",
    "        self.tokenizer = AutoTokenizer.from_pretrained(model_name_or_path)\n",
    "        self.device = torch.device(\"cuda\" if torch.cuda.is_available() else \"cpu\")\n",
    "        self.model.to(self.device)\n",
    "\n",
    "    def encode(self, sentences, **kwargs):\n",
    "        inputs = self.tokenizer(\n",
    "            sentences, \n",
    "            return_tensors='pt', \n",
    "            padding=True, \n",
    "            truncation=True, \n",
    "            max_length=128\n",
    "        ).to(self.device)\n",
    "        with torch.no_grad():\n",
    "            outputs = self.model(**inputs)\n",
    "        embeddings = outputs.last_hidden_state.mean(dim=1)  # Média dos tokens para obter o embedding da sentença\n",
    "        return embeddings.cpu().numpy()\n",
    "\n",
    "# Função para calcular coerência usando BERTopic\n",
    "def compute_topic_coherence_bertopic(filtered_text, num_topics, embedding_model, top_n_words=25):\n",
    "    if not filtered_text or not isinstance(filtered_text, list) or not all(isinstance(t, list) for t in filtered_text):\n",
    "        raise ValueError(\"filtered_text deve ser uma lista de listas de tokens.\")\n",
    "\n",
    "    processed_texts = [\" \".join(tokens) for tokens in filtered_text]\n",
    "    topic_model = BERTopic(nr_topics=num_topics, embedding_model=embedding_model)\n",
    "    topics, _ = topic_model.fit_transform(processed_texts)\n",
    "\n",
    "    topics_words = topic_model.get_topics()\n",
    "    topics_list = [\n",
    "        [word for word, _ in words[:top_n_words]]  # Garante que as palavras existam\n",
    "        for _, words in topics_words.items()\n",
    "    ]\n",
    "\n",
    "    # Criar dicionário Gensim a partir do texto processado\n",
    "    dictionary = Dictionary(filtered_text)\n",
    "\n",
    "    # Converta palavras em IDs válidos\n",
    "    topics_ids = [\n",
    "        [dictionary.token2id[word] for word in topic if word in dictionary.token2id]\n",
    "        for topic in topics_list\n",
    "    ]\n",
    "\n",
    "    # Remover tópicos vazios\n",
    "    topics_ids = [topic for topic in topics_ids if topic]\n",
    "\n",
    "    if not topics_ids:\n",
    "        raise ValueError(\"Nenhum tópico válido foi gerado para cálculo de coerência.\")\n",
    "\n",
    "    coherence_model_bertopic = CoherenceModel(\n",
    "        topics=topics_ids,\n",
    "        texts=filtered_text,\n",
    "        dictionary=dictionary,\n",
    "        coherence='c_v'\n",
    "    )\n",
    "    return coherence_model_bertopic.get_coherence()\n",
    "\n",
    "# Carregar o modelo personalizado (fine-tuning)\n",
    "model_path = \"/home/aluno/paulo/TCCII/TestesBERT/meu_modelo_bert\" \n",
    "custom_model = CustomSentenceTransformer(model_path)\n",
    "\n",
    "# Tokenizar os documentos para o dicionário do Gensim\n",
    "filtered_text = texts_bert  # Substitua pelo seu texto pré-processado\n",
    "\n",
    "# Configuração dos tópicos e validação cruzada\n",
    "topics_list = [10, 20, 30, 40, 50, 60, 70, 80, 90, 100, 120, 140, 160, 180, 200]\n",
    "kf = KFold(n_splits=5, shuffle=True, random_state=42)\n",
    "results = {}\n",
    "\n",
    "for num_topics in topics_list:\n",
    "    print(f\"Processando {num_topics} tópicos com {kf.n_splits}-Fold Cross-Validation...\")\n",
    "    bert_tunado_values = []\n",
    "\n",
    "    for fold_index, (train_index, val_index) in enumerate(kf.split(filtered_text), start=1):\n",
    "        print(f\"  Processando fold {fold_index}...\")\n",
    "\n",
    "        train_text = [filtered_text[i] for i in train_index]\n",
    "\n",
    "        # BERTopic com o modelo personalizado (fine-tuning)\n",
    "        coherence_bertopic_custom = compute_topic_coherence_bertopic(train_text, num_topics, custom_model)\n",
    "        bert_tunado_values.append(coherence_bertopic_custom)\n",
    "\n",
    "    # Salvar resultados\n",
    "    results[num_topics] = {\n",
    "        \"bertopic-custom-model\": bert_tunado_values,\n",
    "    }\n",
    "\n",
    "    with open(f\"custom_model_coherence_topics_{num_topics}.pkl\", \"wb\") as f:\n",
    "        pickle.dump(results[num_topics], f)\n",
    "    print(f\"Resultados para {num_topics} tópicos salvos em 'custom_model_coherence_topics_{num_topics}.pkl'.\\n\")\n",
    "\n",
    "print(\"Processamento concluído!\")"
   ]
  },
  {
   "cell_type": "markdown",
   "metadata": {
    "id": "rSN9mfLTSrDc"
   },
   "source": [
    "# Intervalo de confiança Coerencia\n"
   ]
  },
  {
   "cell_type": "code",
   "execution_count": null,
   "metadata": {},
   "outputs": [],
   "source": [
    "print(plt.style.available)"
   ]
  },
  {
   "cell_type": "code",
   "execution_count": null,
   "metadata": {},
   "outputs": [],
   "source": [
    "import pickle\n",
    "import numpy as np\n",
    "from bertopic import BERTopic\n",
    "from sentence_transformers import SentenceTransformer\n",
    "from gensim.models import LdaModel\n",
    "from sklearn.decomposition import NMF\n",
    "from sklearn.feature_extraction.text import TfidfVectorizer\n",
    "from sklearn.model_selection import KFold\n",
    "from random import randint\n",
    "from gensim.models.coherencemodel import CoherenceModel\n",
    "from gensim.corpora import Dictionary\n",
    "\n",
    "# Função para calcular coerência usando BERTopic\n",
    "def compute_topic_coherence_bertopic(filtered_text, num_topics, embedding_model, top_n_words=25):\n",
    "    if not filtered_text or not isinstance(filtered_text, list) or not all(isinstance(t, list) for t in filtered_text):\n",
    "        raise ValueError(\"filtered_text deve ser uma lista de listas de tokens.\")\n",
    "\n",
    "    processed_texts = [\" \".join(tokens) for tokens in filtered_text]\n",
    "    topic_model = BERTopic(nr_topics=num_topics, embedding_model=embedding_model)\n",
    "    topics, _ = topic_model.fit_transform(processed_texts)\n",
    "\n",
    "    topics_words = topic_model.get_topics()\n",
    "    topics_list = [\n",
    "        [word for word, _ in words[:top_n_words]]  # Garante que as palavras existam\n",
    "        for _, words in topics_words.items()\n",
    "    ]\n",
    "\n",
    "    # Criar dicionário Gensim a partir do texto processado\n",
    "    dictionary = Dictionary(filtered_text)\n",
    "\n",
    "    # Converta palavras em IDs válidos\n",
    "    topics_ids = [\n",
    "        [dictionary.token2id[word] for word in topic if word in dictionary.token2id]\n",
    "        for topic in topics_list\n",
    "    ]\n",
    "\n",
    "    # Remover tópicos vazios\n",
    "    topics_ids = [topic for topic in topics_ids if topic]\n",
    "\n",
    "    if not topics_ids:\n",
    "        raise ValueError(\"Nenhum tópico válido foi gerado para cálculo de coerência.\")\n",
    "\n",
    "    coherence_model_bertopic = CoherenceModel(\n",
    "        topics=topics_ids,\n",
    "        texts=filtered_text,\n",
    "        dictionary=dictionary,\n",
    "        coherence='c_v'\n",
    "    )\n",
    "    return coherence_model_bertopic.get_coherence()\n",
    "\n",
    "# Carregar o modelo Sentence Transformer (paraphrase-multilingual-mpnet)\n",
    "mpnet_model = SentenceTransformer(\"paraphrase-multilingual-mpnet-base-v2\")\n",
    "\n",
    "# Tokenizar os documentos para o dicionário do Gensim\n",
    "filtered_text = texts_bert  # Substitua pelo seu texto pré-processado\n",
    "\n",
    "# Configuração dos tópicos e validação cruzada\n",
    "topics_list = [60, 70, 80, 90, 100, 120, 140, 160, 180, 200]\n",
    "kf = KFold(n_splits=5, shuffle=True, random_state=42)\n",
    "results = {}\n",
    "\n",
    "for num_topics in topics_list:\n",
    "    print(f\"Processando {num_topics} tópicos com {kf.n_splits}-Fold Cross-Validation...\")\n",
    "    mpnet_values, bert_tunado_values = [], []\n",
    "\n",
    "    for fold_index, (train_index, val_index) in enumerate(kf.split(filtered_text), start=1):\n",
    "        print(f\"  Processando fold {fold_index}...\")\n",
    "\n",
    "        train_text = [filtered_text[i] for i in train_index]\n",
    "\n",
    "        # BERTopic com Paraphrase-Multilingual-Mpnet\n",
    "        coherence_bertopic_mpnet = compute_topic_coherence_bertopic(train_text, num_topics, mpnet_model)\n",
    "        mpnet_values.append(coherence_bertopic_mpnet)\n",
    "\n",
    "    # Salvar resultados\n",
    "    results[num_topics] = {\n",
    "        \"bertopic-multilingual-mpnet\": mpnet_values,\n",
    "    }\n",
    "\n",
    "    with open(f\"multi_mpnet_coherence_topics_{num_topics}.pkl\", \"wb\") as f:\n",
    "        pickle.dump(results[num_topics], f)\n",
    "    print(f\"Resultados para {num_topics} tópicos salvos em 'multi_mpnet_coherence_topics_{num_topics}.pkl'.\\n\")\n",
    "\n",
    "print(\"Processamento concluído!\")"
   ]
  },
  {
   "cell_type": "code",
   "execution_count": null,
   "metadata": {},
   "outputs": [],
   "source": [
    "import pickle\n",
    "import numpy as np\n",
    "from bertopic import BERTopic\n",
    "from sentence_transformers import SentenceTransformer\n",
    "from gensim.models import LdaModel\n",
    "from sklearn.decomposition import NMF\n",
    "from sklearn.feature_extraction.text import TfidfVectorizer\n",
    "from sklearn.model_selection import KFold\n",
    "from random import randint\n",
    "from gensim.models.coherencemodel import CoherenceModel\n",
    "from gensim.corpora import Dictionary\n",
    "\n",
    "# Função para calcular coerência usando LDA\n",
    "def compute_topic_coherence_lda(dictionary, corpus, num_topics, texts, top_n_words=25):\n",
    "    lda_model = LdaModel(corpus=corpus, id2word=dictionary, num_topics=num_topics)\n",
    "    topics = [\n",
    "        [word for word, _ in lda_model.show_topic(topic_id, topn=top_n_words)]\n",
    "        for topic_id in range(num_topics)\n",
    "    ]\n",
    "    coherence_model_lda = CoherenceModel(topics=topics, corpus=corpus, dictionary=dictionary, texts=texts, coherence='c_v')\n",
    "    return coherence_model_lda.get_coherence()\n",
    "\n",
    "# Função para calcular coerência usando NMF\n",
    "def compute_topic_coherence_nmf(tfidf_matrix, feature_names, num_topics, dictionary, texts, top_n_words=25):\n",
    "    random_state = randint(0, 10000)\n",
    "    nmf_model = NMF(n_components=num_topics, random_state=random_state)\n",
    "    nmf_model.fit(tfidf_matrix)\n",
    "    \n",
    "    topics = [\n",
    "        [feature_names[i] for i in topic_weights.argsort()[-top_n_words:][::-1]]\n",
    "        for topic_weights in nmf_model.components_\n",
    "    ]\n",
    "    \n",
    "    coherence_model_nmf = CoherenceModel(topics=topics, texts=texts, dictionary=dictionary, coherence='c_v')\n",
    "    return coherence_model_nmf.get_coherence()\n",
    "\n",
    "\n",
    "# Função para calcular coerência usando BERTopic\n",
    "def compute_topic_coherence_bertopic(filtered_text, num_topics, embedding_model, top_n_words=25):\n",
    "    if not filtered_text or not isinstance(filtered_text, list) or not all(isinstance(t, list) for t in filtered_text):\n",
    "        raise ValueError(\"filtered_text deve ser uma lista de listas de tokens.\")\n",
    "\n",
    "    processed_texts = [\" \".join(tokens) for tokens in filtered_text]\n",
    "    topic_model = BERTopic(nr_topics=num_topics, embedding_model=embedding_model)\n",
    "    topics, _ = topic_model.fit_transform(processed_texts)\n",
    "\n",
    "    topics_words = topic_model.get_topics()\n",
    "    topics_list = [\n",
    "        [word for word, _ in words[:top_n_words] if word]  # Garante que as palavras existam\n",
    "        for _, words in topics_words.items()\n",
    "    ]\n",
    "\n",
    "    # Criar dicionário Gensim a partir do texto processado\n",
    "    dictionary = Dictionary(filtered_text)\n",
    "\n",
    "    # Converta palavras em IDs válidos\n",
    "    topics_ids = [\n",
    "        [dictionary.token2id[word] for word in topic if word in dictionary.token2id]  \n",
    "        for topic in topics_list\n",
    "    ]\n",
    "\n",
    "    # Remover tópicos vazios\n",
    "    topics_ids = [topic for topic in topics_ids if topic]\n",
    "\n",
    "    if not topics_ids:\n",
    "        raise ValueError(\"Nenhum tópico válido foi gerado para cálculo de coerência.\")\n",
    "\n",
    "    coherence_model_bertopic = CoherenceModel(\n",
    "        topics=topics_ids, \n",
    "        texts=filtered_text, \n",
    "        dictionary=dictionary, \n",
    "        coherence='c_v'\n",
    "    )\n",
    "    return coherence_model_bertopic.get_coherence()\n",
    "\n",
    "# Carregar modelos\n",
    "multilingual_model = SentenceTransformer(\"all-mpnet-base-v2\")\n",
    "bertimbau_model = SentenceTransformer(\"neuralmind/bert-large-portuguese-cased\")\n",
    "bertweet_model = SentenceTransformer(\"melll-uff/bertweetbr\")\n",
    "\n",
    "# Tokenizar os documentos para o dicionário do Gensim\n",
    "filtered_text = texts_bert  \n",
    "filtered_text_nmf = [\" \".join(texto) if isinstance(texto, list) else texto for texto in filtered_text]\n",
    "\n",
    "# Criar matriz TF-IDF para NMF\n",
    "vectorizer = TfidfVectorizer(max_features=1000)\n",
    "tfidf_matrix = vectorizer.fit_transform(filtered_text_nmf)\n",
    "feature_names = vectorizer.get_feature_names_out()\n",
    "\n",
    "# Criar dicionário e corpus para coerência\n",
    "data_words = [texto.split() for texto in filtered_text_nmf]\n",
    "id2wordNMF = Dictionary(data_words)\n",
    "corpus = [id2wordNMF.doc2bow(texto) for texto in data_words]\n",
    "\n",
    "# Configuração dos tópicos e validação cruzada\n",
    "topics_list = [10, 20]\n",
    "kf = KFold(n_splits=5, shuffle=True, random_state=42)\n",
    "results = {}\n",
    "\n",
    "for num_topics in topics_list:\n",
    "    print(f\"Processando {num_topics} tópicos com {kf.n_splits}-Fold Cross-Validation...\")\n",
    "    nmf_values, multilingual_values, bertimbau_values, bertweet_values, lda_values = [], [], [], [], []\n",
    "\n",
    "    for fold_index, (train_index, val_index) in enumerate(kf.split(filtered_text), start=1):\n",
    "        print(f\"  Processando fold {fold_index}...\")\n",
    "\n",
    "        train_text = [filtered_text[i] for i in train_index]\n",
    "\n",
    "        # BERTopic Multilingual\n",
    "        coherence_bertopic_multilingual = compute_topic_coherence_bertopic(train_text, num_topics, multilingual_model)\n",
    "        multilingual_values.append(coherence_bertopic_multilingual)\n",
    "\n",
    "        # BERTopic Bertimbau\n",
    "        coherence_bertopic_bertimbau = compute_topic_coherence_bertopic(train_text, num_topics, bertimbau_model)\n",
    "        bertimbau_values.append(coherence_bertopic_bertimbau)\n",
    "\n",
    "        # BERTopic Bertweet\n",
    "        coherence_bertopic_bertweet = compute_topic_coherence_bertopic(train_text, num_topics, bertweet_model)\n",
    "        bertweet_values.append(coherence_bertopic_bertweet)\n",
    "\n",
    "        # LDA\n",
    "        dictionary = Dictionary(train_text)\n",
    "        corpus = [dictionary.doc2bow(text) for text in train_text]\n",
    "        coherence_lda = compute_topic_coherence_lda(dictionary, corpus, num_topics, train_text)\n",
    "        lda_values.append(coherence_lda)\n",
    "\n",
    "        # NMF\n",
    "        coherence_nmf = compute_topic_coherence_nmf(tfidf_matrix, feature_names, num_topics, id2wordNMF, data_words)\n",
    "        nmf_values.append(coherence_nmf)\n",
    "\n",
    "    # Salvar resultados\n",
    "    results[num_topics] = {\n",
    "        \"nmf\": nmf_values,\n",
    "        \"bertopic-multilingual\": multilingual_values,\n",
    "        \"bertopic-bertimbau\": bertimbau_values,\n",
    "        \"bertopic-bertweet\": bertweet_values,\n",
    "        \"lda\": lda_values,\n",
    "    }\n",
    "\n",
    "    with open(f\"coherence_topics_{num_topics}.pkl\", \"wb\") as f:\n",
    "        pickle.dump(results[num_topics], f)\n",
    "    print(f\"Resultados para {num_topics} tópicos salvos em 'coherence_topics_{num_topics}.pkl'.\\n\")\n",
    "\n",
    "print(\"Processamento concluído!\")\n"
   ]
  },
  {
   "cell_type": "markdown",
   "metadata": {
    "id": "rSN9mfLTSrDc"
   },
   "source": [
    "# Gráfico com intervalo de confiança Coerencia\n"
   ]
  },
  {
   "cell_type": "code",
   "execution_count": 1,
   "metadata": {},
   "outputs": [
    {
     "data": {
      "image/png": "[encoded data removed]",
      "text/plain": [
       "<Figure size 1000x600 with 1 Axes>"
      ]
     },
     "metadata": {},
     "output_type": "display_data"
    }
   ],
   "source": [
    "import pickle\n",
    "import numpy as np\n",
    "import matplotlib.pyplot as plt\n",
    "\n",
    "# Function to calculate confidence intervals\n",
    "def calculate_confidence_interval(data):\n",
    "    if data.ndim == 1:\n",
    "        mean = np.mean(data)\n",
    "        error = np.std(data, ddof=1) / np.sqrt(len(data))\n",
    "    else:\n",
    "        mean = np.mean(data, axis=1)\n",
    "        error = np.std(data, axis=1, ddof=1) / np.sqrt(data.shape[1])\n",
    "    return mean, error\n",
    "\n",
    "# Load processed results from both sets\n",
    "results1 = {}\n",
    "for num_topics in [10, 20, 30, 40, 50, 60, 70, 80, 90, 100, 120, 140, 160, 180, 200]:\n",
    "    with open(f\"multi_mpnet_coherence_topics_{num_topics}.pkl\", \"rb\") as f:\n",
    "        results1[num_topics] = pickle.load(f)\n",
    "\n",
    "results2 = {}\n",
    "topics_list = [10, 20, 30, 40, 50, 60, 70, 80, 90, 100, 120, 140, 160, 180, 200]\n",
    "for num_topics in topics_list:\n",
    "    with open(f\"coherence_topics_{num_topics}.pkl\", \"rb\") as f:\n",
    "        results2[num_topics] = pickle.load(f)\n",
    "\n",
    "# Carregar resultados do modelo personalizado (bertopic-custom-model)\n",
    "results_custom = {}\n",
    "for num_topics in [10, 20, 30, 40, 50, 60, 70, 80, 90, 100, 120, 140, 160, 180, 200]:\n",
    "    with open(f\"custom_model_coherence_topics_{num_topics}.pkl\", \"rb\") as f:\n",
    "        results_custom[num_topics] = pickle.load(f)\n",
    "\n",
    "# Lists for methods, including both 'bertopic_multilingual' and 'bertopic_multilingual_mpnet'\n",
    "methods = ['nmf', 'bertopic-custom-model', 'bertopic-multilingual', 'bertopic-multilingual-mpnet', 'bertopic-bertimbau', 'bertopic-bertweet', 'lda']\n",
    "\n",
    "colors = {\n",
    "    'nmf': 'blue',\n",
    "    'bertopic-custom-model': 'brown',\n",
    "    'bertopic-multilingual': 'green',\n",
    "    'bertopic-multilingual-mpnet': 'purple',\n",
    "    'bertopic-bertimbau': 'orange',\n",
    "    'bertopic-bertweet': 'black',\n",
    "    'lda': 'red',\n",
    "}\n",
    "\n",
    "method_labels = {\n",
    "    'nmf': 'NMF',\n",
    "    'bertopic-custom-model': 'FineTunning-BERTweet-BR',\n",
    "    'bertopic-multilingual': 'BERTopic-MPNET',\n",
    "    'bertopic-multilingual-mpnet': 'BERTopic-Multilingual-MPNET',\n",
    "    'bertopic-bertimbau': 'BERTopic-BERTimbau',\n",
    "    'bertopic-bertweet': 'BERTopic-BERTweet-BR',\n",
    "    'lda': 'LDA',\n",
    "}\n",
    "\n",
    "# Prepare the plot\n",
    "fig, ax = plt.subplots(figsize=(10, 6))\n",
    "\n",
    "# Plot confidence intervals for each method\n",
    "for method in methods:\n",
    "    means, errors = [], []\n",
    "\n",
    "    # Compute combined results for each number of topics\n",
    "    for num_topics in [10, 20, 30, 40, 50, 60, 70, 80, 90, 100, 120, 140, 160, 180, 200]:\n",
    "        values = []\n",
    "        if method in results1[num_topics]:\n",
    "            values.extend(results1[num_topics][method])\n",
    "        if method in results2[num_topics]:\n",
    "            values.extend(results2[num_topics][method])\n",
    "        if method == 'bertopic-custom-model' and num_topics in results_custom:\n",
    "            values.extend(results_custom[num_topics]['bertopic-custom-model'])\n",
    "        \n",
    "        if values:  # Check if there are any values\n",
    "            values = np.array(values)\n",
    "            mean, error = calculate_confidence_interval(values)\n",
    "            means.append(mean)\n",
    "            errors.append(error)\n",
    "\n",
    "    # Convert lists to numpy arrays\n",
    "    means = np.array(means)\n",
    "    errors = np.array(errors)\n",
    "\n",
    "    # Plot the combined results\n",
    "    ax.errorbar([10, 20, 30, 40, 50, 60, 70, 80, 90, 100, 120, 140, 160, 180, 200], means, yerr=errors, fmt='-', color=colors[method], \n",
    "                label=method_labels[method], capsize=5, elinewidth=1.5)\n",
    "\n",
    "# Add labels and title\n",
    "ax.set_xlabel('Number of Topics', fontsize=12)\n",
    "ax.set_ylabel('Coherence (c_v)', fontsize=12)\n",
    "ax.set_title('Coherence by Negatives Topics', fontsize=14)\n",
    "ax.legend(title='Methods', fontsize=10, loc='upper right')\n",
    "\n",
    "plt.tight_layout()\n",
    "plt.savefig(\"comparison_coherence_by_topics_negatives.png\", dpi=300, bbox_inches=\"tight\")\n",
    "plt.show()"
   ]
  },
  {
   "cell_type": "code",
   "execution_count": 1,
   "metadata": {},
   "outputs": [
    {
     "name": "stdout",
     "output_type": "stream",
     "text": [
      "Method: nmf\n",
      "Topics: 10, Mean Coherence: 0.3941 (95% CI: 0.3895 - 0.3988)\n",
      "Topics: 20, Mean Coherence: 0.3843 (95% CI: 0.3743 - 0.3944)\n",
      "Topics: 30, Mean Coherence: 0.3629 (95% CI: 0.3534 - 0.3724)\n",
      "Topics: 40, Mean Coherence: 0.3454 (95% CI: 0.3357 - 0.3551)\n",
      "Topics: 50, Mean Coherence: 0.3497 (95% CI: 0.3440 - 0.3553)\n",
      "Topics: 60, Mean Coherence: 0.3401 (95% CI: 0.3369 - 0.3433)\n",
      "Topics: 70, Mean Coherence: 0.3333 (95% CI: 0.3290 - 0.3375)\n",
      "Topics: 80, Mean Coherence: 0.3331 (95% CI: 0.3299 - 0.3362)\n",
      "Topics: 90, Mean Coherence: 0.3302 (95% CI: 0.3267 - 0.3337)\n",
      "Topics: 100, Mean Coherence: 0.3300 (95% CI: 0.3264 - 0.3337)\n",
      "Topics: 120, Mean Coherence: 0.3262 (95% CI: 0.3247 - 0.3277)\n",
      "Topics: 140, Mean Coherence: 0.3275 (95% CI: 0.3252 - 0.3298)\n",
      "Topics: 160, Mean Coherence: 0.3309 (95% CI: 0.3294 - 0.3325)\n",
      "Topics: 180, Mean Coherence: 0.3398 (95% CI: 0.3387 - 0.3409)\n",
      "Topics: 200, Mean Coherence: 0.3499 (95% CI: 0.3483 - 0.3516)\n",
      "------------------------------------------------------------\n",
      "Method: bertopic-custom-model\n",
      "Topics: 10, Mean Coherence: 0.4498 (95% CI: 0.4035 - 0.4961)\n",
      "Topics: 20, Mean Coherence: 0.4214 (95% CI: 0.3793 - 0.4634)\n",
      "Topics: 30, Mean Coherence: 0.4226 (95% CI: 0.4018 - 0.4434)\n",
      "Topics: 40, Mean Coherence: 0.4069 (95% CI: 0.3962 - 0.4176)\n",
      "Topics: 50, Mean Coherence: 0.3949 (95% CI: 0.3818 - 0.4080)\n",
      "Topics: 60, Mean Coherence: 0.4004 (95% CI: 0.3886 - 0.4122)\n",
      "Topics: 70, Mean Coherence: 0.3933 (95% CI: 0.3865 - 0.4000)\n",
      "Topics: 80, Mean Coherence: 0.3894 (95% CI: 0.3801 - 0.3988)\n",
      "Topics: 90, Mean Coherence: 0.3900 (95% CI: 0.3748 - 0.4051)\n",
      "Topics: 100, Mean Coherence: 0.3870 (95% CI: 0.3787 - 0.3953)\n",
      "Topics: 120, Mean Coherence: 0.3809 (95% CI: 0.3726 - 0.3892)\n",
      "Topics: 140, Mean Coherence: 0.3785 (95% CI: 0.3695 - 0.3876)\n",
      "Topics: 160, Mean Coherence: 0.3744 (95% CI: 0.3688 - 0.3801)\n",
      "Topics: 180, Mean Coherence: 0.3722 (95% CI: 0.3621 - 0.3822)\n",
      "Topics: 200, Mean Coherence: 0.3771 (95% CI: 0.3668 - 0.3873)\n",
      "------------------------------------------------------------\n",
      "Method: bertopic-multilingual\n",
      "Topics: 10, Mean Coherence: 0.5535 (95% CI: 0.4890 - 0.6181)\n",
      "Topics: 20, Mean Coherence: 0.5020 (95% CI: 0.4747 - 0.5292)\n",
      "Topics: 30, Mean Coherence: 0.4642 (95% CI: 0.4553 - 0.4730)\n",
      "Topics: 40, Mean Coherence: 0.4382 (95% CI: 0.4170 - 0.4594)\n",
      "Topics: 50, Mean Coherence: 0.4248 (95% CI: 0.4188 - 0.4308)\n",
      "Topics: 60, Mean Coherence: 0.4052 (95% CI: 0.3840 - 0.4265)\n",
      "Topics: 70, Mean Coherence: 0.4059 (95% CI: 0.3890 - 0.4228)\n",
      "Topics: 80, Mean Coherence: 0.3951 (95% CI: 0.3813 - 0.4088)\n",
      "Topics: 90, Mean Coherence: 0.3927 (95% CI: 0.3757 - 0.4098)\n",
      "Topics: 100, Mean Coherence: 0.3869 (95% CI: 0.3715 - 0.4023)\n",
      "Topics: 120, Mean Coherence: 0.3803 (95% CI: 0.3686 - 0.3920)\n",
      "Topics: 140, Mean Coherence: 0.3756 (95% CI: 0.3650 - 0.3862)\n",
      "Topics: 160, Mean Coherence: 0.3733 (95% CI: 0.3662 - 0.3803)\n",
      "Topics: 180, Mean Coherence: 0.3712 (95% CI: 0.3625 - 0.3798)\n",
      "Topics: 200, Mean Coherence: 0.3647 (95% CI: 0.3559 - 0.3735)\n",
      "------------------------------------------------------------\n",
      "Method: bertopic-multilingual-mpnet\n",
      "Topics: 10, Mean Coherence: 0.4752 (95% CI: 0.4586 - 0.4918)\n",
      "Topics: 20, Mean Coherence: 0.4655 (95% CI: 0.4490 - 0.4821)\n",
      "Topics: 30, Mean Coherence: 0.4497 (95% CI: 0.4350 - 0.4644)\n",
      "Topics: 40, Mean Coherence: 0.4442 (95% CI: 0.4296 - 0.4588)\n",
      "Topics: 50, Mean Coherence: 0.4353 (95% CI: 0.4192 - 0.4515)\n",
      "Topics: 60, Mean Coherence: 0.4313 (95% CI: 0.4262 - 0.4364)\n",
      "Topics: 70, Mean Coherence: 0.4320 (95% CI: 0.4233 - 0.4408)\n",
      "Topics: 80, Mean Coherence: 0.4259 (95% CI: 0.4115 - 0.4403)\n",
      "Topics: 90, Mean Coherence: 0.4176 (95% CI: 0.4081 - 0.4271)\n",
      "Topics: 100, Mean Coherence: 0.4199 (95% CI: 0.4139 - 0.4259)\n",
      "Topics: 120, Mean Coherence: 0.4105 (95% CI: 0.4034 - 0.4176)\n",
      "Topics: 140, Mean Coherence: 0.4002 (95% CI: 0.3946 - 0.4058)\n",
      "Topics: 160, Mean Coherence: 0.3852 (95% CI: 0.3757 - 0.3947)\n",
      "Topics: 180, Mean Coherence: 0.3726 (95% CI: 0.3601 - 0.3851)\n",
      "Topics: 200, Mean Coherence: 0.3762 (95% CI: 0.3638 - 0.3886)\n",
      "------------------------------------------------------------\n",
      "Method: bertopic-bertimbau\n",
      "Topics: 10, Mean Coherence: 0.5117 (95% CI: 0.4460 - 0.5773)\n",
      "Topics: 20, Mean Coherence: 0.4761 (95% CI: 0.3774 - 0.5748)\n",
      "Topics: 30, Mean Coherence: 0.5014 (95% CI: 0.4112 - 0.5916)\n",
      "Topics: 40, Mean Coherence: 0.4995 (95% CI: 0.4190 - 0.5799)\n",
      "Topics: 50, Mean Coherence: 0.4665 (95% CI: 0.3685 - 0.5644)\n",
      "Topics: 60, Mean Coherence: 0.4704 (95% CI: 0.3583 - 0.5825)\n",
      "Topics: 70, Mean Coherence: 0.4384 (95% CI: 0.3616 - 0.5153)\n",
      "Topics: 80, Mean Coherence: 0.4489 (95% CI: 0.3657 - 0.5321)\n",
      "Topics: 90, Mean Coherence: 0.4064 (95% CI: 0.3956 - 0.4173)\n",
      "Topics: 100, Mean Coherence: 0.4636 (95% CI: 0.3746 - 0.5527)\n",
      "Topics: 120, Mean Coherence: 0.4524 (95% CI: 0.3603 - 0.5445)\n",
      "Topics: 140, Mean Coherence: 0.4594 (95% CI: 0.3302 - 0.5886)\n",
      "Topics: 160, Mean Coherence: 0.4297 (95% CI: 0.3450 - 0.5145)\n",
      "Topics: 180, Mean Coherence: 0.4910 (95% CI: 0.3731 - 0.6089)\n",
      "Topics: 200, Mean Coherence: 0.4941 (95% CI: 0.3628 - 0.6253)\n",
      "------------------------------------------------------------\n",
      "Method: bertopic-bertweet\n",
      "Topics: 10, Mean Coherence: 0.4862 (95% CI: 0.3601 - 0.6123)\n",
      "Topics: 20, Mean Coherence: 0.4524 (95% CI: 0.3252 - 0.5796)\n",
      "Topics: 30, Mean Coherence: 0.4428 (95% CI: 0.3288 - 0.5569)\n",
      "Topics: 40, Mean Coherence: 0.4319 (95% CI: 0.3434 - 0.5203)\n",
      "Topics: 50, Mean Coherence: 0.4794 (95% CI: 0.3295 - 0.6293)\n",
      "Topics: 60, Mean Coherence: 0.4969 (95% CI: 0.3785 - 0.6153)\n",
      "Topics: 70, Mean Coherence: 0.5185 (95% CI: 0.3918 - 0.6452)\n",
      "Topics: 80, Mean Coherence: 0.4862 (95% CI: 0.3338 - 0.6386)\n",
      "Topics: 90, Mean Coherence: 0.4774 (95% CI: 0.3475 - 0.6073)\n",
      "Topics: 100, Mean Coherence: 0.4369 (95% CI: 0.3313 - 0.5426)\n",
      "Topics: 120, Mean Coherence: 0.4691 (95% CI: 0.3361 - 0.6021)\n",
      "Topics: 140, Mean Coherence: 0.4253 (95% CI: 0.3123 - 0.5383)\n",
      "Topics: 160, Mean Coherence: 0.4999 (95% CI: 0.3654 - 0.6343)\n",
      "Topics: 180, Mean Coherence: 0.4792 (95% CI: 0.3146 - 0.6438)\n",
      "Topics: 200, Mean Coherence: 0.4563 (95% CI: 0.3263 - 0.5863)\n",
      "------------------------------------------------------------\n",
      "Method: lda\n",
      "Topics: 10, Mean Coherence: 0.3689 (95% CI: 0.3382 - 0.3995)\n",
      "Topics: 20, Mean Coherence: 0.3651 (95% CI: 0.3422 - 0.3880)\n",
      "Topics: 30, Mean Coherence: 0.3583 (95% CI: 0.3514 - 0.3653)\n",
      "Topics: 40, Mean Coherence: 0.3387 (95% CI: 0.3302 - 0.3472)\n",
      "Topics: 50, Mean Coherence: 0.3369 (95% CI: 0.3347 - 0.3391)\n",
      "Topics: 60, Mean Coherence: 0.3259 (95% CI: 0.3250 - 0.3269)\n",
      "Topics: 70, Mean Coherence: 0.3225 (95% CI: 0.3189 - 0.3260)\n",
      "Topics: 80, Mean Coherence: 0.3196 (95% CI: 0.3141 - 0.3251)\n",
      "Topics: 90, Mean Coherence: 0.3208 (95% CI: 0.3166 - 0.3251)\n",
      "Topics: 100, Mean Coherence: 0.3179 (95% CI: 0.3106 - 0.3253)\n",
      "Topics: 120, Mean Coherence: 0.3161 (95% CI: 0.3130 - 0.3192)\n",
      "Topics: 140, Mean Coherence: 0.3145 (95% CI: 0.3108 - 0.3181)\n",
      "Topics: 160, Mean Coherence: 0.3204 (95% CI: 0.3175 - 0.3233)\n",
      "Topics: 180, Mean Coherence: 0.3284 (95% CI: 0.3235 - 0.3333)\n",
      "Topics: 200, Mean Coherence: 0.3480 (95% CI: 0.3377 - 0.3583)\n",
      "------------------------------------------------------------\n"
     ]
    }
   ],
   "source": [
    "import pickle\n",
    "import numpy as np\n",
    "from scipy import stats\n",
    "\n",
    "# Função para calcular intervalo de confiança de 95%\n",
    "def calculate_confidence_interval(data, confidence=0.95):\n",
    "    n = len(data)\n",
    "    mean = np.mean(data)\n",
    "    std_err = np.std(data, ddof=1) / np.sqrt(n)\n",
    "    h = stats.t.ppf((1 + confidence) / 2., n - 1) * std_err\n",
    "    return mean, h\n",
    "\n",
    "# Carregar resultados processados de diferentes modelos\n",
    "results1, results2, results_custom = {}, {}, {}\n",
    "topics_list = [10, 20, 30, 40, 50, 60, 70, 80, 90, 100, 120, 140, 160, 180, 200]\n",
    "\n",
    "for num_topics in topics_list:\n",
    "    with open(f\"multi_mpnet_coherence_topics_{num_topics}.pkl\", \"rb\") as f:\n",
    "        results1[num_topics] = pickle.load(f)\n",
    "    with open(f\"coherence_topics_{num_topics}.pkl\", \"rb\") as f:\n",
    "        results2[num_topics] = pickle.load(f)\n",
    "    with open(f\"custom_model_coherence_topics_{num_topics}.pkl\", \"rb\") as f:\n",
    "        results_custom[num_topics] = pickle.load(f)\n",
    "\n",
    "# Métodos que serão avaliados\n",
    "methods = [\n",
    "    'nmf',\n",
    "    'bertopic-custom-model',\n",
    "    'bertopic-multilingual',\n",
    "    'bertopic-multilingual-mpnet',\n",
    "    'bertopic-bertimbau',\n",
    "    'bertopic-bertweet',\n",
    "    'lda'\n",
    "]\n",
    "\n",
    "# Exibir média e intervalo de confiança de 95% para cada método\n",
    "for method in methods:\n",
    "    print(f\"Method: {method}\")\n",
    "    for num_topics in topics_list:\n",
    "        values = []\n",
    "        if method in results1[num_topics]:\n",
    "            values.extend(results1[num_topics][method])\n",
    "        if method in results2[num_topics]:\n",
    "            values.extend(results2[num_topics][method])\n",
    "        if method == 'bertopic-custom-model' and num_topics in results_custom:\n",
    "            values.extend(results_custom[num_topics]['bertopic-custom-model'])\n",
    "        \n",
    "        if values:\n",
    "            values = np.array(values)\n",
    "            mean, error = calculate_confidence_interval(values)\n",
    "            lower = mean - error\n",
    "            upper = mean + error\n",
    "            print(f\"Topics: {num_topics}, Mean Coherence: {mean:.4f} (95% CI: {lower:.4f} - {upper:.4f})\")\n",
    "    print(\"-\" * 60)\n"
   ]
  }
 ],
 "metadata": {
  "accelerator": "GPU",
  "colab": {
   "collapsed_sections": [
    "q-jcVg0rTXG7",
    "btiHYgTZT_i_",
    "eZ2tk0mi1jAW",
    "7pzTYkEgWoH6",
    "AVZFuajh1YGm",
    "wo2Vl6CXUIPL",
    "-8c_56YL4EGG",
    "37Lb1aQ44VPA",
    "qERrrkBE_Ijb",
    "rUrI9IRv4dcX",
    "EHffa3RFbfL2",
    "KF11Q5zhHrSe",
    "K9DgcI_THm3R",
    "ToESNsSTIZBh",
    "6yZf9FObJRET"
   ],
   "gpuType": "T4",
   "provenance": []
  },
  "kernelspec": {
   "display_name": "Python 3 (ipykernel)",
   "language": "python",
   "name": "python3"
  },
  "language_info": {
   "codemirror_mode": {
    "name": "ipython",
    "version": 3
   },
   "file_extension": ".py",
   "mimetype": "text/x-python",
   "name": "python",
   "nbconvert_exporter": "python",
   "pygments_lexer": "ipython3",
   "version": "3.10.12"
  }
 },
 "nbformat": 4,
 "nbformat_minor": 4
}

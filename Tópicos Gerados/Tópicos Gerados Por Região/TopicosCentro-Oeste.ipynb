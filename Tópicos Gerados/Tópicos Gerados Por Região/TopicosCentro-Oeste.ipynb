{
 "cells": [
  {
   "cell_type": "markdown",
   "metadata": {
    "id": "q-jcVg0rTXG7"
   },
   "source": [
    "# Importação de bibliotecas\n"
   ]
  },
  {
   "cell_type": "code",
   "execution_count": 16,
   "metadata": {},
   "outputs": [],
   "source": [
    "import pandas as pd\n",
    "import re\n",
    "import nltk\n",
    "from nltk.corpus import stopwords\n",
    "from nltk.tokenize import word_tokenize\n",
    "from nltk.stem import WordNetLemmatizer\n",
    "from collections import Counter\n",
    "import matplotlib.pyplot as plt\n",
    "import gensim\n",
    "from gensim.utils import simple_preprocess\n",
    "from gensim.corpora import Dictionary\n",
    "from bertopic import BERTopic\n",
    "from sentence_transformers import SentenceTransformer\n",
    "from umap import UMAP\n",
    "from hdbscan import HDBSCAN\n",
    "from sklearn.feature_extraction.text import CountVectorizer\n",
    "from bertopic.vectorizers import ClassTfidfTransformer\n",
    "from gensim.models.coherencemodel import CoherenceModel"
   ]
  },
  {
   "cell_type": "markdown",
   "metadata": {
    "id": "q-jcVg0rTXG7"
   },
   "source": [
    "# Baixar recursos do NLTK\n"
   ]
  },
  {
   "cell_type": "code",
   "execution_count": 17,
   "metadata": {},
   "outputs": [
    {
     "name": "stderr",
     "output_type": "stream",
     "text": [
      "[nltk_data] Downloading package punkt to /home/aluno/nltk_data...\n",
      "[nltk_data]   Package punkt is already up-to-date!\n",
      "[nltk_data] Downloading package stopwords to /home/aluno/nltk_data...\n",
      "[nltk_data]   Unzipping corpora/stopwords.zip.\n",
      "[nltk_data] Downloading package wordnet to /home/aluno/nltk_data...\n",
      "[nltk_data]   Package wordnet is already up-to-date!\n",
      "[nltk_data] Downloading package omw-1.4 to /home/aluno/nltk_data...\n",
      "[nltk_data]   Package omw-1.4 is already up-to-date!\n"
     ]
    },
    {
     "data": {
      "text/plain": [
       "True"
      ]
     },
     "execution_count": 17,
     "metadata": {},
     "output_type": "execute_result"
    }
   ],
   "source": [
    "# Baixar recursos do NLTK\n",
    "nltk.download('punkt')\n",
    "nltk.download('stopwords')\n",
    "nltk.download('wordnet')\n",
    "nltk.download('omw-1.4')"
   ]
  },
  {
   "cell_type": "markdown",
   "metadata": {
    "id": "q-jcVg0rTXG7"
   },
   "source": [
    "# Base de dados\n"
   ]
  },
  {
   "cell_type": "code",
   "execution_count": 18,
   "metadata": {},
   "outputs": [
    {
     "data": {
      "text/html": [
       "<div>\n",
       "<style scoped>\n",
       "    .dataframe tbody tr th:only-of-type {\n",
       "        vertical-align: middle;\n",
       "    }\n",
       "\n",
       "    .dataframe tbody tr th {\n",
       "        vertical-align: top;\n",
       "    }\n",
       "\n",
       "    .dataframe thead th {\n",
       "        text-align: right;\n",
       "    }\n",
       "</style>\n",
       "<table border=\"1\" class=\"dataframe\">\n",
       "  <thead>\n",
       "    <tr style=\"text-align: right;\">\n",
       "      <th></th>\n",
       "      <th>text</th>\n",
       "    </tr>\n",
       "  </thead>\n",
       "  <tbody>\n",
       "    <tr>\n",
       "      <th>Especialização gratuita em Docência do IFMS abre 70 vagas https://t. co/jpYhozmVWG</th>\n",
       "      <td>Especialização gratuita em Docência do IFMS ab...</td>\n",
       "    </tr>\n",
       "    <tr>\n",
       "      <th>Não ironicamente eu gosto mais do ifb do que qualquer outra escola que eu tenha estudado</th>\n",
       "      <td>Não ironicamente eu gosto mais do ifb do que q...</td>\n",
       "    </tr>\n",
       "    <tr>\n",
       "      <th>saudade almoço do ifb</th>\n",
       "      <td>saudade almoço do ifb</td>\n",
       "    </tr>\n",
       "    <tr>\n",
       "      <th>O Instituto oferece reforço escolar  com disciplinar militar  além de atividades esportivas e de musicalização para crianças e adolescentes.  Conta com a parceria das Forças Armadas  da UFMS e do IFMS e apoio de empresários.  Agora  está reivindicando também apoio do poder público.</th>\n",
       "      <td>O Instituto oferece reforço escolar  com disci...</td>\n",
       "    </tr>\n",
       "    <tr>\n",
       "      <th>Estiver hoje dia 07 / 07 como Representante Geral dos Estudantes do IFB e Militante do PT na inauguração do Centro de Formação Tecnológica (CFT) do Instituto Federal de Brasília no IFB Campus Estrutural que contou com a participação da Reitora Luciana  do IFB e do Diretor Geral.  https://t. co/Os7JCsWUKy</th>\n",
       "      <td>Estiver hoje dia 07 / 07 como Representante Ge...</td>\n",
       "    </tr>\n",
       "  </tbody>\n",
       "</table>\n",
       "</div>"
      ],
      "text/plain": [
       "                                                                                                 text\n",
       "Especialização gratuita em Docência do IFMS abr...  Especialização gratuita em Docência do IFMS ab...\n",
       "Não ironicamente eu gosto mais do ifb do que qu...  Não ironicamente eu gosto mais do ifb do que q...\n",
       "saudade almoço do ifb                                                           saudade almoço do ifb\n",
       "O Instituto oferece reforço escolar  com discip...  O Instituto oferece reforço escolar  com disci...\n",
       "Estiver hoje dia 07 / 07 como Representante Ger...  Estiver hoje dia 07 / 07 como Representante Ge..."
      ]
     },
     "execution_count": 18,
     "metadata": {},
     "output_type": "execute_result"
    }
   ],
   "source": [
    "# Carregar o dataset\n",
    "dataSetIfg = pd.read_csv('centro-oeste.csv')\n",
    "\n",
    "# Exibir as primeiras linhas para verificar se a leitura foi correta\n",
    "dataSetIfg.head()"
   ]
  },
  {
   "cell_type": "markdown",
   "metadata": {
    "id": "q-jcVg0rTXG7"
   },
   "source": [
    "# Limpeza dos dados \n"
   ]
  },
  {
   "cell_type": "code",
   "execution_count": 19,
   "metadata": {},
   "outputs": [
    {
     "data": {
      "text/plain": [
       "Especialização gratuita em Docência do IFMS abre 70 vagas https://t. co/jpYhozmVWG                                                                                                                                                                                                                                   especialização gratuita docência ifms abre vag...\n",
       "Não ironicamente eu gosto mais do ifb do que qualquer outra escola que eu tenha estudado                                                                                                                                                                                                                             ironicamente gosto ifb qualquer outra escola e...\n",
       "saudade almoço do ifb                                                                                                                                                                                                                                                                                                                               saudade almoço ifb\n",
       "O Instituto oferece reforço escolar  com disciplinar militar  além de atividades esportivas e de musicalização para crianças e adolescentes.  Conta com a parceria das Forças Armadas  da UFMS e do IFMS e apoio de empresários.  Agora  está reivindicando também apoio do poder público.                           instituto oferece reforço escolar disciplinar ...\n",
       "Estiver hoje dia 07 / 07 como Representante Geral dos Estudantes do IFB e Militante do PT na inauguração do Centro de Formação Tecnológica (CFT) do Instituto Federal de Brasília no IFB Campus Estrutural que contou com a participação da Reitora Luciana  do IFB e do Diretor Geral.  https://t. co/Os7JCsWUKy    hoje dia representante geral estudantes ifb mi...\n",
       "Name: text_processed, dtype: object"
      ]
     },
     "execution_count": 19,
     "metadata": {},
     "output_type": "execute_result"
    }
   ],
   "source": [
    "def clean_text(text):\n",
    "    if isinstance(text, str):  # Verifica se é uma string\n",
    "        # Remove URLs completas e truncadas\n",
    "        text = re.sub(r'https?://\\S+\\.\\.\\.|https?://\\S+', '', text, flags=re.MULTILINE)\n",
    "        # Remove URLs que começam com \"www\"\n",
    "        text = re.sub(r'www\\.\\S+', '', text)\n",
    "        # Remove hashtags\n",
    "        text = re.sub(r'#\\S+', '', text)\n",
    "        # Remove menções\n",
    "        text = re.sub(r'@\\S+', '', text)\n",
    "        # Remove números\n",
    "        text = re.sub(r'\\d+', '', text)\n",
    "        # Remove pontuações e caracteres especiais\n",
    "        text = re.sub(r'[^\\w\\s]', '', text)\n",
    "        # Remove stop words\n",
    "        stop_words = set(stopwords.words('portuguese'))\n",
    "        # Tokeniza o texto (divide em palavras)\n",
    "        words = text.split()\n",
    "        # Filtra as stop words\n",
    "        filtered_words = [word for word in words if word.lower() not in stop_words]\n",
    "        # Junta as palavras de volta em um texto\n",
    "        text = ' '.join(filtered_words)\n",
    "        return text.strip()  # Remove espaços extras no início e no final\n",
    "    return text  # Retorna o texto original se não for uma string\n",
    "    \n",
    "# Função para remover palavras ofensivas\n",
    "def remove_offensive_words(text, offensive_words):\n",
    "    if isinstance(text, str):  # Verifica se é uma string\n",
    "        words = text.split()  # Divide o texto em palavras\n",
    "        cleaned_words = [word for word in words if word.lower() not in offensive_words]\n",
    "        return ' '.join(cleaned_words)\n",
    "    return text  # Retorna o texto original se não for uma string\n",
    "\n",
    "\n",
    "# Lista de palavras ofensivas\n",
    "offensive_words = ['vtnc', 'qm', 'matar', 'sim', 'pqp', 'porra', 'puta', 'pariu', 'foda', 'cu', 'matar', 'pqp', 'porra', 'desgraca', 'desgraça', 'puto', 'foder', 'vsf', 'puta', 'caralho']\n",
    "\n",
    "# Aplicar as funções no dataset\n",
    "dataSetIfg['text'] = dataSetIfg['text'].apply(clean_text)\n",
    "dataSetIfg['Message_Cleaned'] = dataSetIfg['text'].apply(lambda x: remove_offensive_words(x, offensive_words))\n",
    "\n",
    "# Remover pontuação e converter para minúsculas\n",
    "dataSetIfg['text_processed'] = dataSetIfg['Message_Cleaned'].map(\n",
    "    lambda x: re.sub('[,\\.!?]', '', x) if isinstance(x, str) else x\n",
    ")\n",
    "dataSetIfg['text_processed'] = dataSetIfg['text_processed'].map(\n",
    "    lambda x: x.lower() if isinstance(x, str) else x\n",
    ")\n",
    "\n",
    "lemmatizer = WordNetLemmatizer()\n",
    "\n",
    "def preprocess_text(text):\n",
    "    tokens = word_tokenize(text.lower())\n",
    "    tokens = [lemmatizer.lemmatize(token) for token in tokens if token.isalpha()]\n",
    "    return ' '.join(tokens)\n",
    "\n",
    "dataSetIfg['text_processed'] = dataSetIfg['text'].apply(preprocess_text)\n",
    "\n",
    "# Exibir as primeiras linhas do resultado\n",
    "dataSetIfg['text_processed'].head()"
   ]
  },
  {
   "cell_type": "markdown",
   "metadata": {
    "id": "q-jcVg0rTXG7"
   },
   "source": [
    "# Frequencia de palavras\n"
   ]
  },
  {
   "cell_type": "code",
   "execution_count": 20,
   "metadata": {},
   "outputs": [
    {
     "data": {
      "image/png": "[encoded data removed]",
      "text/plain": [
       "<Figure size 1500x800 with 1 Axes>"
      ]
     },
     "metadata": {},
     "output_type": "display_data"
    }
   ],
   "source": [
    "# Separar todas as palavras\n",
    "all_words = []\n",
    "for message in dataSetIfg['text_processed']:\n",
    "    if isinstance(message, str):  # Verifica se o valor é uma string\n",
    "        all_words.extend(message.split())  # Divide o texto em palavras e adiciona à lista\n",
    "\n",
    "# Calcular a frequência total das palavras (TF)\n",
    "total_words = len(all_words)\n",
    "word_counts = Counter(all_words)\n",
    "tf = {word: count / total_words for word, count in word_counts.items()}\n",
    "\n",
    "# Ordenar palavras pelo TF em ordem decrescente e pegar as 50 mais frequentes\n",
    "sorted_tf = sorted(tf.items(), key=lambda x: x[1], reverse=True)[:50]\n",
    "\n",
    "# Separar palavras e valores de TF\n",
    "words = [item[0] for item in sorted_tf]\n",
    "tf_values = [item[1] for item in sorted_tf]\n",
    "\n",
    "# Gerar histograma das palavras mais frequentes pelo TF\n",
    "plt.figure(figsize=(15, 8))\n",
    "plt.bar(words, tf_values, color='steelblue')\n",
    "plt.xlabel('Palavras', fontsize=14)\n",
    "plt.ylabel('TF (Frequência Relativa)', fontsize=14)\n",
    "plt.title('50 Palavras mais frequentes pelo TF', fontsize=16)\n",
    "plt.xticks(rotation=45, ha='right', fontsize=10)\n",
    "plt.grid(axis='y', linestyle='--', alpha=0.7)\n",
    "plt.tight_layout()\n",
    "plt.show()"
   ]
  },
  {
   "cell_type": "markdown",
   "metadata": {
    "id": "q-jcVg0rTXG7"
   },
   "source": [
    "# Remoção de stop words\n"
   ]
  },
  {
   "cell_type": "code",
   "execution_count": 21,
   "metadata": {},
   "outputs": [
    {
     "data": {
      "text/plain": [
       "Especialização gratuita em Docência do IFMS abre 70 vagas https://t. co/jpYhozmVWG                                                                                                                                                                                                                                   especialização gratuita docência ifms abre vag...\n",
       "Não ironicamente eu gosto mais do ifb do que qualquer outra escola que eu tenha estudado                                                                                                                                                                                                                             ironicamente gosto ifb qualquer outra escola e...\n",
       "saudade almoço do ifb                                                                                                                                                                                                                                                                                                                               saudade almoço ifb\n",
       "O Instituto oferece reforço escolar  com disciplinar militar  além de atividades esportivas e de musicalização para crianças e adolescentes.  Conta com a parceria das Forças Armadas  da UFMS e do IFMS e apoio de empresários.  Agora  está reivindicando também apoio do poder público.                           instituto oferece reforço escolar disciplinar ...\n",
       "Estiver hoje dia 07 / 07 como Representante Geral dos Estudantes do IFB e Militante do PT na inauguração do Centro de Formação Tecnológica (CFT) do Instituto Federal de Brasília no IFB Campus Estrutural que contou com a participação da Reitora Luciana  do IFB e do Diretor Geral.  https://t. co/Os7JCsWUKy    representante geral estudantes ifb militante p...\n",
       "Name: text_processed, dtype: object"
      ]
     },
     "execution_count": 21,
     "metadata": {},
     "output_type": "execute_result"
    }
   ],
   "source": [
    "import re\n",
    "\n",
    "# Lista de stop words personalizada\n",
    "stop_words = stopwords.words('portuguese')\n",
    "stop_words.extend([  'cosnwsqvzqs', 'cocuzwjicwjf', 'cozwwqdvnbp', 'cosnnohoj', 'cojbgfeupwk', 'corkrzqxb',\n",
    "    'excuse', 'dont', 'maybes', 'absolute', 'ands', 'yes', 'or', 'exception', 'same', 'butt',\n",
    "    'we', 'you', 'more', 'embarrassing', 'self', 'made', 'taxon', 'beep', 'kamenrider', 'cn'\n",
    "    'sim', 'ok', 'bom', 'cn', 'sei', 'co', 'qm', 'mlk', 'vi', 'bo', 'nada', 'sdd', 'sdds', 'bora',\n",
    "    'ngc', 'fumou', 'md', 'vc', 'vcs', 'do', 'no', 'msm', 'de', 'e', 'a', 'eu', 'que', 'o', 'é', \n",
    "    'da', 'em', 'na', 'não', 'pra', 'um', 'com', 'q', 'me', 'uma', 'se', 'mais', 'os', 'para',\n",
    "    'meu', 'minha', 'as', 'só', 'vou', 'buts', 'mas', 'tem', 'por', 'dia', 'foi', 'vai', 'como', \n",
    "    'fazer', 'pq', 'ifal', 'ter', 'ano', 'já', 'ser', 'esse', 'dos', 'isso', 'n', 'quando', 'muito', \n",
    "    'até', 'essa', 'tá', 'era', 'ifam', 'tô', 'ele', '-', 'hoje', 'hj', 'lá', 'vc', 'nem', 'nao', \n",
    "    'ainda', 'to', 'ifsp', 'ela', 'todo', 'ifce', 'das', 'tenho', 'ou', 'tava', 'tudo', 'aqui', 'assim', \n",
    "    'são', 'anos', 'agora', 'ver', 'ir', 'sem', 'nunca', 'tinha', 'quem'])\n",
    "\n",
    "# Função para remover stop words e palavras com \"kk\"\n",
    "def remove_stopwords_and_kk(text):\n",
    "    # Remove stop words\n",
    "    text = ' '.join([word for word in text.split() if word.lower() not in stop_words])\n",
    "    \n",
    "    # Remove tudo a partir de \"kk\"\n",
    "    text = re.sub(r'\\bkk\\b.*', '', text)\n",
    "    \n",
    "    return text.strip()\n",
    "\n",
    "# Aplicar a remoção de stop words e palavras com \"kk\"\n",
    "dataSetIfg['text_processed'] = dataSetIfg['text_processed'].apply(remove_stopwords_and_kk)\n",
    "\n",
    "# Exibir as primeiras linhas após remoção de stop words e palavras com \"kk\"\n",
    "dataSetIfg['text_processed'].head()"
   ]
  },
  {
   "cell_type": "code",
   "execution_count": 22,
   "metadata": {},
   "outputs": [],
   "source": [
    "def remove_short_words(text, min_length=3):\n",
    "    return ' '.join([word for word in text.split() if len(word) >= min_length])\n",
    "\n",
    "dataSetIfg['text_processed'] = dataSetIfg['text_processed'].apply(remove_short_words)"
   ]
  },
  {
   "cell_type": "markdown",
   "metadata": {
    "id": "q-jcVg0rTXG7"
   },
   "source": [
    "# BERTopic \n"
   ]
  },
  {
   "cell_type": "code",
   "execution_count": 23,
   "metadata": {},
   "outputs": [
    {
     "name": "stdout",
     "output_type": "stream",
     "text": [
      "[[(0, 1), (1, 1), (2, 1), (3, 1), (4, 1), (5, 1), (6, 1)]]\n"
     ]
    }
   ],
   "source": [
    "# Pré-processamento para BERTopic\n",
    "data = dataSetIfg.text_processed.values.tolist()\n",
    "data_words = [simple_preprocess(text, deacc=True) for text in data]\n",
    "\n",
    "# Remover stop words novamente (garantia)\n",
    "data_words = [[word for word in doc if word not in stop_words] for doc in data_words]\n",
    "\n",
    "# Criar dicionário e corpus\n",
    "id2word = Dictionary(data_words)\n",
    "corpus = [id2word.doc2bow(doc) for doc in data_words]\n",
    "\n",
    "# Visualizar o corpus\n",
    "print(corpus[:1])"
   ]
  },
  {
   "cell_type": "code",
   "execution_count": 24,
   "metadata": {},
   "outputs": [],
   "source": [
    "# Inicializar o BERTopic\n",
    "embedding_model = SentenceTransformer(\"paraphrase-multilingual-mpnet-base-v2\")\n",
    "\n",
    "#umap_model = UMAP(n_neighbors=15, n_components=5, min_dist=0.0, metric='cosine')\n",
    "#hdbscan_model = HDBSCAN(min_cluster_size=15, metric='euclidean', prediction_data=True)\n",
    "#vectorizer_model = CountVectorizer(stop_words=stop_words)\n",
    "#ctfidf_model = ClassTfidfTransformer()\n"
   ]
  },
  {
   "cell_type": "code",
   "execution_count": 25,
   "metadata": {},
   "outputs": [],
   "source": [
    "topic_model = BERTopic(\n",
    "  embedding_model=embedding_model,    # Step 1 - Extract embeddings\n",
    "  #umap_model=umap_model,              # Step 2 - Reduce dimensionality\n",
    "  #hdbscan_model=hdbscan_model,        # Step 3 - Cluster reduced embeddings\n",
    "  #vectorizer_model=vectorizer_model,  # Step 4 - Tokenize topics\n",
    "  #ctfidf_model=ctfidf_model,          # Step 5 - Extract topic words\n",
    "  nr_topics=50\n",
    ")"
   ]
  },
  {
   "cell_type": "code",
   "execution_count": 26,
   "metadata": {},
   "outputs": [],
   "source": [
    "# Ajustar o modelo\n",
    "topics, _ = topic_model.fit_transform(data)\n"
   ]
  },
  {
   "cell_type": "code",
   "execution_count": 27,
   "metadata": {},
   "outputs": [],
   "source": [
    "# Visualizar os tópicos\n",
    "#print(topic_model.get_topic_info())"
   ]
  },
  {
   "cell_type": "code",
   "execution_count": 28,
   "metadata": {},
   "outputs": [
    {
     "data": {
      "application/vnd.plotly.v1+json": {
       "config": {
        "plotlyServerURL": "https://plot.ly"
       },
       "data": [
        {
         "hoverinfo": "text",
         "marker": {
          "color": "rgb(61,153,112)"
         },
         "mode": "lines",
         "type": "scatter",
         "x": [
          0,
          0.8164753347442135,
          0.8164753347442135,
          0
         ],
         "xaxis": "x",
         "y": [
          -15,
          -15,
          -25,
          -25
         ],
         "yaxis": "y"
        },
        {
         "hoverinfo": "text",
         "marker": {
          "color": "rgb(61,153,112)"
         },
         "mode": "lines",
         "type": "scatter",
         "x": [
          0.8164753347442135,
          0.8505184668256773,
          0.8505184668256773,
          0
         ],
         "xaxis": "x",
         "y": [
          -20,
          -20,
          -35,
          -35
         ],
         "yaxis": "y"
        },
        {
         "hoverinfo": "text",
         "marker": {
          "color": "rgb(61,153,112)"
         },
         "mode": "lines",
         "type": "scatter",
         "x": [
          0,
          0.864476928834595,
          0.864476928834595,
          0.8505184668256773
         ],
         "xaxis": "x",
         "y": [
          -5,
          -5,
          -27.5,
          -27.5
         ],
         "yaxis": "y"
        },
        {
         "hoverinfo": "text",
         "marker": {
          "color": "rgb(61,153,112)"
         },
         "mode": "lines",
         "type": "scatter",
         "x": [
          0.864476928834595,
          0.908326649356916,
          0.908326649356916,
          0
         ],
         "xaxis": "x",
         "y": [
          -16.25,
          -16.25,
          -45,
          -45
         ],
         "yaxis": "y"
        },
        {
         "hoverinfo": "text",
         "marker": {
          "color": "rgb(255,65,54)"
         },
         "mode": "lines",
         "type": "scatter",
         "x": [
          0,
          0.7149121413614672,
          0.7149121413614672,
          0
         ],
         "xaxis": "x",
         "y": [
          -65,
          -65,
          -75,
          -75
         ],
         "yaxis": "y"
        },
        {
         "hoverinfo": "text",
         "marker": {
          "color": "rgb(255,65,54)"
         },
         "mode": "lines",
         "type": "scatter",
         "x": [
          0,
          0.7766021333891201,
          0.7766021333891201,
          0.7149121413614672
         ],
         "xaxis": "x",
         "y": [
          -55,
          -55,
          -70,
          -70
         ],
         "yaxis": "y"
        },
        {
         "hoverinfo": "text",
         "marker": {
          "color": "rgb(255,65,54)"
         },
         "mode": "lines",
         "type": "scatter",
         "x": [
          0.7766021333891201,
          0.828955216135829,
          0.828955216135829,
          0
         ],
         "xaxis": "x",
         "y": [
          -62.5,
          -62.5,
          -85,
          -85
         ],
         "yaxis": "y"
        },
        {
         "hoverinfo": "text",
         "marker": {
          "color": "rgb(255,65,54)"
         },
         "mode": "lines",
         "type": "scatter",
         "x": [
          0,
          0.8956420423633876,
          0.8956420423633876,
          0
         ],
         "xaxis": "x",
         "y": [
          -95,
          -95,
          -105,
          -105
         ],
         "yaxis": "y"
        },
        {
         "hoverinfo": "text",
         "marker": {
          "color": "rgb(255,65,54)"
         },
         "mode": "lines",
         "type": "scatter",
         "x": [
          0.828955216135829,
          0.9423627642889744,
          0.9423627642889744,
          0.8956420423633876
         ],
         "xaxis": "x",
         "y": [
          -73.75,
          -73.75,
          -100,
          -100
         ],
         "yaxis": "y"
        },
        {
         "hoverinfo": "text",
         "marker": {
          "color": "rgb(0,116,217)"
         },
         "mode": "lines",
         "type": "scatter",
         "x": [
          0.908326649356916,
          1.0545708866278523,
          1.0545708866278523,
          0.9423627642889744
         ],
         "xaxis": "x",
         "y": [
          -30.625,
          -30.625,
          -86.875,
          -86.875
         ],
         "yaxis": "y"
        },
        {
         "hoverinfo": "text",
         "marker": {
          "color": "rgb(35,205,205)"
         },
         "mode": "lines",
         "type": "scatter",
         "x": [
          0,
          0.9195769526189639,
          0.9195769526189639,
          0
         ],
         "xaxis": "x",
         "y": [
          -115,
          -115,
          -125,
          -125
         ],
         "yaxis": "y"
        },
        {
         "hoverinfo": "text",
         "marker": {
          "color": "rgb(35,205,205)"
         },
         "mode": "lines",
         "type": "scatter",
         "x": [
          0.9195769526189639,
          0.9505005058975361,
          0.9505005058975361,
          0
         ],
         "xaxis": "x",
         "y": [
          -120,
          -120,
          -135,
          -135
         ],
         "yaxis": "y"
        },
        {
         "hoverinfo": "text",
         "marker": {
          "color": "rgb(35,205,205)"
         },
         "mode": "lines",
         "type": "scatter",
         "x": [
          0,
          0.6899648023437169,
          0.6899648023437169,
          0
         ],
         "xaxis": "x",
         "y": [
          -155,
          -155,
          -165,
          -165
         ],
         "yaxis": "y"
        },
        {
         "hoverinfo": "text",
         "marker": {
          "color": "rgb(35,205,205)"
         },
         "mode": "lines",
         "type": "scatter",
         "x": [
          0.6899648023437169,
          0.7843141473769222,
          0.7843141473769222,
          0
         ],
         "xaxis": "x",
         "y": [
          -160,
          -160,
          -175,
          -175
         ],
         "yaxis": "y"
        },
        {
         "hoverinfo": "text",
         "marker": {
          "color": "rgb(35,205,205)"
         },
         "mode": "lines",
         "type": "scatter",
         "x": [
          0,
          0.8630772711938565,
          0.8630772711938565,
          0.7843141473769222
         ],
         "xaxis": "x",
         "y": [
          -145,
          -145,
          -167.5,
          -167.5
         ],
         "yaxis": "y"
        },
        {
         "hoverinfo": "text",
         "marker": {
          "color": "rgb(35,205,205)"
         },
         "mode": "lines",
         "type": "scatter",
         "x": [
          0.8630772711938565,
          0.8859285687684663,
          0.8859285687684663,
          0
         ],
         "xaxis": "x",
         "y": [
          -156.25,
          -156.25,
          -185,
          -185
         ],
         "yaxis": "y"
        },
        {
         "hoverinfo": "text",
         "marker": {
          "color": "rgb(35,205,205)"
         },
         "mode": "lines",
         "type": "scatter",
         "x": [
          0,
          0.8795516071881926,
          0.8795516071881926,
          0
         ],
         "xaxis": "x",
         "y": [
          -195,
          -195,
          -205,
          -205
         ],
         "yaxis": "y"
        },
        {
         "hoverinfo": "text",
         "marker": {
          "color": "rgb(35,205,205)"
         },
         "mode": "lines",
         "type": "scatter",
         "x": [
          0.8859285687684663,
          0.9106374782033329,
          0.9106374782033329,
          0.8795516071881926
         ],
         "xaxis": "x",
         "y": [
          -170.625,
          -170.625,
          -200,
          -200
         ],
         "yaxis": "y"
        },
        {
         "hoverinfo": "text",
         "marker": {
          "color": "rgb(35,205,205)"
         },
         "mode": "lines",
         "type": "scatter",
         "x": [
          0.9505005058975361,
          0.9951377103090061,
          0.9951377103090061,
          0.9106374782033329
         ],
         "xaxis": "x",
         "y": [
          -127.5,
          -127.5,
          -185.3125,
          -185.3125
         ],
         "yaxis": "y"
        },
        {
         "hoverinfo": "text",
         "marker": {
          "color": "rgb(133,20,75)"
         },
         "mode": "lines",
         "type": "scatter",
         "x": [
          0,
          0.8480743813100651,
          0.8480743813100651,
          0
         ],
         "xaxis": "x",
         "y": [
          -215,
          -215,
          -225,
          -225
         ],
         "yaxis": "y"
        },
        {
         "hoverinfo": "text",
         "marker": {
          "color": "rgb(255,220,0)"
         },
         "mode": "lines",
         "type": "scatter",
         "x": [
          0,
          0.9310423241033549,
          0.9310423241033549,
          0
         ],
         "xaxis": "x",
         "y": [
          -235,
          -235,
          -245,
          -245
         ],
         "yaxis": "y"
        },
        {
         "hoverinfo": "text",
         "marker": {
          "color": "rgb(40,35,35)"
         },
         "mode": "lines",
         "type": "scatter",
         "x": [
          0,
          0.9414823290287064,
          0.9414823290287064,
          0
         ],
         "xaxis": "x",
         "y": [
          -265,
          -265,
          -275,
          -275
         ],
         "yaxis": "y"
        },
        {
         "hoverinfo": "text",
         "marker": {
          "color": "rgb(40,35,35)"
         },
         "mode": "lines",
         "type": "scatter",
         "x": [
          0,
          0.9833414438335745,
          0.9833414438335745,
          0.9414823290287064
         ],
         "xaxis": "x",
         "y": [
          -255,
          -255,
          -270,
          -270
         ],
         "yaxis": "y"
        },
        {
         "hoverinfo": "text",
         "marker": {
          "color": "rgb(0,116,217)"
         },
         "mode": "lines",
         "type": "scatter",
         "x": [
          0.9310423241033549,
          1.0017559419610396,
          1.0017559419610396,
          0.9833414438335745
         ],
         "xaxis": "x",
         "y": [
          -240,
          -240,
          -262.5,
          -262.5
         ],
         "yaxis": "y"
        },
        {
         "hoverinfo": "text",
         "marker": {
          "color": "rgb(0,116,217)"
         },
         "mode": "lines",
         "type": "scatter",
         "x": [
          1.0017559419610396,
          1.0075399363097588,
          1.0075399363097588,
          0
         ],
         "xaxis": "x",
         "y": [
          -251.25,
          -251.25,
          -285,
          -285
         ],
         "yaxis": "y"
        },
        {
         "hoverinfo": "text",
         "marker": {
          "color": "rgb(0,116,217)"
         },
         "mode": "lines",
         "type": "scatter",
         "x": [
          0.8480743813100651,
          1.0698170725479343,
          1.0698170725479343,
          1.0075399363097588
         ],
         "xaxis": "x",
         "y": [
          -220,
          -220,
          -268.125,
          -268.125
         ],
         "yaxis": "y"
        },
        {
         "hoverinfo": "text",
         "marker": {
          "color": "rgb(0,116,217)"
         },
         "mode": "lines",
         "type": "scatter",
         "x": [
          0.9951377103090061,
          1.1056743997887184,
          1.1056743997887184,
          1.0698170725479343
         ],
         "xaxis": "x",
         "y": [
          -156.40625,
          -156.40625,
          -244.0625,
          -244.0625
         ],
         "yaxis": "y"
        },
        {
         "hoverinfo": "text",
         "marker": {
          "color": "rgb(61,153,112)"
         },
         "mode": "lines",
         "type": "scatter",
         "x": [
          0,
          0.7070541008420754,
          0.7070541008420754,
          0
         ],
         "xaxis": "x",
         "y": [
          -295,
          -295,
          -305,
          -305
         ],
         "yaxis": "y"
        },
        {
         "hoverinfo": "text",
         "marker": {
          "color": "rgb(61,153,112)"
         },
         "mode": "lines",
         "type": "scatter",
         "x": [
          0.7070541008420754,
          0.8463814387878786,
          0.8463814387878786,
          0
         ],
         "xaxis": "x",
         "y": [
          -300,
          -300,
          -315,
          -315
         ],
         "yaxis": "y"
        },
        {
         "hoverinfo": "text",
         "marker": {
          "color": "rgb(0,116,217)"
         },
         "mode": "lines",
         "type": "scatter",
         "x": [
          1.1056743997887184,
          1.1829301267749948,
          1.1829301267749948,
          0.8463814387878786
         ],
         "xaxis": "x",
         "y": [
          -200.234375,
          -200.234375,
          -307.5,
          -307.5
         ],
         "yaxis": "y"
        },
        {
         "hoverinfo": "text",
         "marker": {
          "color": "rgb(0,116,217)"
         },
         "mode": "lines",
         "type": "scatter",
         "x": [
          1.0545708866278523,
          1.5359987381031803,
          1.5359987381031803,
          1.1829301267749948
         ],
         "xaxis": "x",
         "y": [
          -58.75,
          -58.75,
          -253.8671875,
          -253.8671875
         ],
         "yaxis": "y"
        }
       ],
       "layout": {
        "autosize": false,
        "height": 680,
        "hoverlabel": {
         "bgcolor": "white",
         "font": {
          "family": "Rockwell",
          "size": 16
         }
        },
        "hovermode": "closest",
        "plot_bgcolor": "#ECEFF1",
        "showlegend": false,
        "template": {
         "data": {
          "bar": [
           {
            "error_x": {
             "color": "#2a3f5f"
            },
            "error_y": {
             "color": "#2a3f5f"
            },
            "marker": {
             "line": {
              "color": "white",
              "width": 0.5
             },
             "pattern": {
              "fillmode": "overlay",
              "size": 10,
              "solidity": 0.2
             }
            },
            "type": "bar"
           }
          ],
          "barpolar": [
           {
            "marker": {
             "line": {
              "color": "white",
              "width": 0.5
             },
             "pattern": {
              "fillmode": "overlay",
              "size": 10,
              "solidity": 0.2
             }
            },
            "type": "barpolar"
           }
          ],
          "carpet": [
           {
            "aaxis": {
             "endlinecolor": "#2a3f5f",
             "gridcolor": "#C8D4E3",
             "linecolor": "#C8D4E3",
             "minorgridcolor": "#C8D4E3",
             "startlinecolor": "#2a3f5f"
            },
            "baxis": {
             "endlinecolor": "#2a3f5f",
             "gridcolor": "#C8D4E3",
             "linecolor": "#C8D4E3",
             "minorgridcolor": "#C8D4E3",
             "startlinecolor": "#2a3f5f"
            },
            "type": "carpet"
           }
          ],
          "choropleth": [
           {
            "colorbar": {
             "outlinewidth": 0,
             "ticks": ""
            },
            "type": "choropleth"
           }
          ],
          "contour": [
           {
            "colorbar": {
             "outlinewidth": 0,
             "ticks": ""
            },
            "colorscale": [
             [
              0,
              "#0d0887"
             ],
             [
              0.1111111111111111,
              "#46039f"
             ],
             [
              0.2222222222222222,
              "#7201a8"
             ],
             [
              0.3333333333333333,
              "#9c179e"
             ],
             [
              0.4444444444444444,
              "#bd3786"
             ],
             [
              0.5555555555555556,
              "#d8576b"
             ],
             [
              0.6666666666666666,
              "#ed7953"
             ],
             [
              0.7777777777777778,
              "#fb9f3a"
             ],
             [
              0.8888888888888888,
              "#fdca26"
             ],
             [
              1,
              "#f0f921"
             ]
            ],
            "type": "contour"
           }
          ],
          "contourcarpet": [
           {
            "colorbar": {
             "outlinewidth": 0,
             "ticks": ""
            },
            "type": "contourcarpet"
           }
          ],
          "heatmap": [
           {
            "colorbar": {
             "outlinewidth": 0,
             "ticks": ""
            },
            "colorscale": [
             [
              0,
              "#0d0887"
             ],
             [
              0.1111111111111111,
              "#46039f"
             ],
             [
              0.2222222222222222,
              "#7201a8"
             ],
             [
              0.3333333333333333,
              "#9c179e"
             ],
             [
              0.4444444444444444,
              "#bd3786"
             ],
             [
              0.5555555555555556,
              "#d8576b"
             ],
             [
              0.6666666666666666,
              "#ed7953"
             ],
             [
              0.7777777777777778,
              "#fb9f3a"
             ],
             [
              0.8888888888888888,
              "#fdca26"
             ],
             [
              1,
              "#f0f921"
             ]
            ],
            "type": "heatmap"
           }
          ],
          "heatmapgl": [
           {
            "colorbar": {
             "outlinewidth": 0,
             "ticks": ""
            },
            "colorscale": [
             [
              0,
              "#0d0887"
             ],
             [
              0.1111111111111111,
              "#46039f"
             ],
             [
              0.2222222222222222,
              "#7201a8"
             ],
             [
              0.3333333333333333,
              "#9c179e"
             ],
             [
              0.4444444444444444,
              "#bd3786"
             ],
             [
              0.5555555555555556,
              "#d8576b"
             ],
             [
              0.6666666666666666,
              "#ed7953"
             ],
             [
              0.7777777777777778,
              "#fb9f3a"
             ],
             [
              0.8888888888888888,
              "#fdca26"
             ],
             [
              1,
              "#f0f921"
             ]
            ],
            "type": "heatmapgl"
           }
          ],
          "histogram": [
           {
            "marker": {
             "pattern": {
              "fillmode": "overlay",
              "size": 10,
              "solidity": 0.2
             }
            },
            "type": "histogram"
           }
          ],
          "histogram2d": [
           {
            "colorbar": {
             "outlinewidth": 0,
             "ticks": ""
            },
            "colorscale": [
             [
              0,
              "#0d0887"
             ],
             [
              0.1111111111111111,
              "#46039f"
             ],
             [
              0.2222222222222222,
              "#7201a8"
             ],
             [
              0.3333333333333333,
              "#9c179e"
             ],
             [
              0.4444444444444444,
              "#bd3786"
             ],
             [
              0.5555555555555556,
              "#d8576b"
             ],
             [
              0.6666666666666666,
              "#ed7953"
             ],
             [
              0.7777777777777778,
              "#fb9f3a"
             ],
             [
              0.8888888888888888,
              "#fdca26"
             ],
             [
              1,
              "#f0f921"
             ]
            ],
            "type": "histogram2d"
           }
          ],
          "histogram2dcontour": [
           {
            "colorbar": {
             "outlinewidth": 0,
             "ticks": ""
            },
            "colorscale": [
             [
              0,
              "#0d0887"
             ],
             [
              0.1111111111111111,
              "#46039f"
             ],
             [
              0.2222222222222222,
              "#7201a8"
             ],
             [
              0.3333333333333333,
              "#9c179e"
             ],
             [
              0.4444444444444444,
              "#bd3786"
             ],
             [
              0.5555555555555556,
              "#d8576b"
             ],
             [
              0.6666666666666666,
              "#ed7953"
             ],
             [
              0.7777777777777778,
              "#fb9f3a"
             ],
             [
              0.8888888888888888,
              "#fdca26"
             ],
             [
              1,
              "#f0f921"
             ]
            ],
            "type": "histogram2dcontour"
           }
          ],
          "mesh3d": [
           {
            "colorbar": {
             "outlinewidth": 0,
             "ticks": ""
            },
            "type": "mesh3d"
           }
          ],
          "parcoords": [
           {
            "line": {
             "colorbar": {
              "outlinewidth": 0,
              "ticks": ""
             }
            },
            "type": "parcoords"
           }
          ],
          "pie": [
           {
            "automargin": true,
            "type": "pie"
           }
          ],
          "scatter": [
           {
            "fillpattern": {
             "fillmode": "overlay",
             "size": 10,
             "solidity": 0.2
            },
            "type": "scatter"
           }
          ],
          "scatter3d": [
           {
            "line": {
             "colorbar": {
              "outlinewidth": 0,
              "ticks": ""
             }
            },
            "marker": {
             "colorbar": {
              "outlinewidth": 0,
              "ticks": ""
             }
            },
            "type": "scatter3d"
           }
          ],
          "scattercarpet": [
           {
            "marker": {
             "colorbar": {
              "outlinewidth": 0,
              "ticks": ""
             }
            },
            "type": "scattercarpet"
           }
          ],
          "scattergeo": [
           {
            "marker": {
             "colorbar": {
              "outlinewidth": 0,
              "ticks": ""
             }
            },
            "type": "scattergeo"
           }
          ],
          "scattergl": [
           {
            "marker": {
             "colorbar": {
              "outlinewidth": 0,
              "ticks": ""
             }
            },
            "type": "scattergl"
           }
          ],
          "scattermapbox": [
           {
            "marker": {
             "colorbar": {
              "outlinewidth": 0,
              "ticks": ""
             }
            },
            "type": "scattermapbox"
           }
          ],
          "scatterpolar": [
           {
            "marker": {
             "colorbar": {
              "outlinewidth": 0,
              "ticks": ""
             }
            },
            "type": "scatterpolar"
           }
          ],
          "scatterpolargl": [
           {
            "marker": {
             "colorbar": {
              "outlinewidth": 0,
              "ticks": ""
             }
            },
            "type": "scatterpolargl"
           }
          ],
          "scatterternary": [
           {
            "marker": {
             "colorbar": {
              "outlinewidth": 0,
              "ticks": ""
             }
            },
            "type": "scatterternary"
           }
          ],
          "surface": [
           {
            "colorbar": {
             "outlinewidth": 0,
             "ticks": ""
            },
            "colorscale": [
             [
              0,
              "#0d0887"
             ],
             [
              0.1111111111111111,
              "#46039f"
             ],
             [
              0.2222222222222222,
              "#7201a8"
             ],
             [
              0.3333333333333333,
              "#9c179e"
             ],
             [
              0.4444444444444444,
              "#bd3786"
             ],
             [
              0.5555555555555556,
              "#d8576b"
             ],
             [
              0.6666666666666666,
              "#ed7953"
             ],
             [
              0.7777777777777778,
              "#fb9f3a"
             ],
             [
              0.8888888888888888,
              "#fdca26"
             ],
             [
              1,
              "#f0f921"
             ]
            ],
            "type": "surface"
           }
          ],
          "table": [
           {
            "cells": {
             "fill": {
              "color": "#EBF0F8"
             },
             "line": {
              "color": "white"
             }
            },
            "header": {
             "fill": {
              "color": "#C8D4E3"
             },
             "line": {
              "color": "white"
             }
            },
            "type": "table"
           }
          ]
         },
         "layout": {
          "annotationdefaults": {
           "arrowcolor": "#2a3f5f",
           "arrowhead": 0,
           "arrowwidth": 1
          },
          "autotypenumbers": "strict",
          "coloraxis": {
           "colorbar": {
            "outlinewidth": 0,
            "ticks": ""
           }
          },
          "colorscale": {
           "diverging": [
            [
             0,
             "#8e0152"
            ],
            [
             0.1,
             "#c51b7d"
            ],
            [
             0.2,
             "#de77ae"
            ],
            [
             0.3,
             "#f1b6da"
            ],
            [
             0.4,
             "#fde0ef"
            ],
            [
             0.5,
             "#f7f7f7"
            ],
            [
             0.6,
             "#e6f5d0"
            ],
            [
             0.7,
             "#b8e186"
            ],
            [
             0.8,
             "#7fbc41"
            ],
            [
             0.9,
             "#4d9221"
            ],
            [
             1,
             "#276419"
            ]
           ],
           "sequential": [
            [
             0,
             "#0d0887"
            ],
            [
             0.1111111111111111,
             "#46039f"
            ],
            [
             0.2222222222222222,
             "#7201a8"
            ],
            [
             0.3333333333333333,
             "#9c179e"
            ],
            [
             0.4444444444444444,
             "#bd3786"
            ],
            [
             0.5555555555555556,
             "#d8576b"
            ],
            [
             0.6666666666666666,
             "#ed7953"
            ],
            [
             0.7777777777777778,
             "#fb9f3a"
            ],
            [
             0.8888888888888888,
             "#fdca26"
            ],
            [
             1,
             "#f0f921"
            ]
           ],
           "sequentialminus": [
            [
             0,
             "#0d0887"
            ],
            [
             0.1111111111111111,
             "#46039f"
            ],
            [
             0.2222222222222222,
             "#7201a8"
            ],
            [
             0.3333333333333333,
             "#9c179e"
            ],
            [
             0.4444444444444444,
             "#bd3786"
            ],
            [
             0.5555555555555556,
             "#d8576b"
            ],
            [
             0.6666666666666666,
             "#ed7953"
            ],
            [
             0.7777777777777778,
             "#fb9f3a"
            ],
            [
             0.8888888888888888,
             "#fdca26"
            ],
            [
             1,
             "#f0f921"
            ]
           ]
          },
          "colorway": [
           "#636efa",
           "#EF553B",
           "#00cc96",
           "#ab63fa",
           "#FFA15A",
           "#19d3f3",
           "#FF6692",
           "#B6E880",
           "#FF97FF",
           "#FECB52"
          ],
          "font": {
           "color": "#2a3f5f"
          },
          "geo": {
           "bgcolor": "white",
           "lakecolor": "white",
           "landcolor": "white",
           "showlakes": true,
           "showland": true,
           "subunitcolor": "#C8D4E3"
          },
          "hoverlabel": {
           "align": "left"
          },
          "hovermode": "closest",
          "mapbox": {
           "style": "light"
          },
          "paper_bgcolor": "white",
          "plot_bgcolor": "white",
          "polar": {
           "angularaxis": {
            "gridcolor": "#EBF0F8",
            "linecolor": "#EBF0F8",
            "ticks": ""
           },
           "bgcolor": "white",
           "radialaxis": {
            "gridcolor": "#EBF0F8",
            "linecolor": "#EBF0F8",
            "ticks": ""
           }
          },
          "scene": {
           "xaxis": {
            "backgroundcolor": "white",
            "gridcolor": "#DFE8F3",
            "gridwidth": 2,
            "linecolor": "#EBF0F8",
            "showbackground": true,
            "ticks": "",
            "zerolinecolor": "#EBF0F8"
           },
           "yaxis": {
            "backgroundcolor": "white",
            "gridcolor": "#DFE8F3",
            "gridwidth": 2,
            "linecolor": "#EBF0F8",
            "showbackground": true,
            "ticks": "",
            "zerolinecolor": "#EBF0F8"
           },
           "zaxis": {
            "backgroundcolor": "white",
            "gridcolor": "#DFE8F3",
            "gridwidth": 2,
            "linecolor": "#EBF0F8",
            "showbackground": true,
            "ticks": "",
            "zerolinecolor": "#EBF0F8"
           }
          },
          "shapedefaults": {
           "line": {
            "color": "#2a3f5f"
           }
          },
          "ternary": {
           "aaxis": {
            "gridcolor": "#DFE8F3",
            "linecolor": "#A2B1C6",
            "ticks": ""
           },
           "baxis": {
            "gridcolor": "#DFE8F3",
            "linecolor": "#A2B1C6",
            "ticks": ""
           },
           "bgcolor": "white",
           "caxis": {
            "gridcolor": "#DFE8F3",
            "linecolor": "#A2B1C6",
            "ticks": ""
           }
          },
          "title": {
           "x": 0.05
          },
          "xaxis": {
           "automargin": true,
           "gridcolor": "#EBF0F8",
           "linecolor": "#EBF0F8",
           "ticks": "",
           "title": {
            "standoff": 15
           },
           "zerolinecolor": "#EBF0F8",
           "zerolinewidth": 2
          },
          "yaxis": {
           "automargin": true,
           "gridcolor": "#EBF0F8",
           "linecolor": "#EBF0F8",
           "ticks": "",
           "title": {
            "standoff": 15
           },
           "zerolinecolor": "#EBF0F8",
           "zerolinewidth": 2
          }
         }
        },
        "title": {
         "font": {
          "color": "Black",
          "size": 22
         },
         "text": "<b>Hierarchical Clustering</b>",
         "x": 0.5,
         "xanchor": "center",
         "yanchor": "top"
        },
        "width": 1000,
        "xaxis": {
         "autorange": true,
         "mirror": "allticks",
         "range": [
          0,
          1.5359987381031803
         ],
         "rangemode": "tozero",
         "showgrid": false,
         "showline": true,
         "showticklabels": true,
         "ticks": "outside",
         "type": "linear",
         "zeroline": false
        },
        "yaxis": {
         "mirror": "allticks",
         "range": [
          -320,
          0
         ],
         "rangemode": "tozero",
         "showgrid": false,
         "showline": true,
         "showticklabels": true,
         "tickmode": "array",
         "ticks": "outside",
         "ticktext": [
          "12_reunião_retorno_aulas",
          "15_alimentos_aparecida_pnae",
          "13_inscrições_vagas_cursos",
          "16_técnica_visita_vídeo",
          "5_extensão_anápolis_comunica",
          "17_mobilidade_civil_engenha...",
          "14_secitec_ciências_evento",
          "4_computação_programação_se...",
          "3_mulher_solidária_feira",
          "10_negra_consciência_neabi",
          "1_teatro_goiânia_espetáculo",
          "24_achei_turma_fut",
          "30_matar_entro_líbero",
          "20_dança_unb_prática",
          "22_kkkkk_kkkkkkkkk_kkkkkkkk",
          "27_ifg_passei_medo",
          "8_greve_aula_ifb",
          "31_ifb_calendário_branca",
          "23_ifms_amigo_ifb",
          "9_almoço_lanchonete_café",
          "29_pessoas_incríveis_vamo",
          "7_douradosms_notícias_aceitam",
          "21_ifms_biro_coloquei",
          "2_canal_ética_youtube",
          "6_ifg_amostra_estudado",
          "28_mim_tia_meninas",
          "11_ônibus_linha_norte",
          "19_movimento_infantil_educa...",
          "0_brasil_favor_lutando",
          "25_representante_geral_estu...",
          "26_campus_brasília_ifb",
          "18_nascente_sol_pedra"
         ],
         "tickvals": [
          -5,
          -15,
          -25,
          -35,
          -45,
          -55,
          -65,
          -75,
          -85,
          -95,
          -105,
          -115,
          -125,
          -135,
          -145,
          -155,
          -165,
          -175,
          -185,
          -195,
          -205,
          -215,
          -225,
          -235,
          -245,
          -255,
          -265,
          -275,
          -285,
          -295,
          -305,
          -315
         ],
         "type": "linear",
         "zeroline": false
        }
       }
      },
      "text/html": [
       "<div>                            <div id=\"23fae1d9-b173-4ae1-95a2-b5a2bdaa7150\" class=\"plotly-graph-div\" style=\"height:680px; width:1000px;\"></div>            <script type=\"text/javascript\">                require([\"plotly\"], function(Plotly) {                    window.PLOTLYENV=window.PLOTLYENV || {};                                    if (document.getElementById(\"23fae1d9-b173-4ae1-95a2-b5a2bdaa7150\")) {                    Plotly.newPlot(                        \"23fae1d9-b173-4ae1-95a2-b5a2bdaa7150\",                        [{\"hoverinfo\":\"text\",\"marker\":{\"color\":\"rgb(61,153,112)\"},\"mode\":\"lines\",\"x\":[0.0,0.8164753347442135,0.8164753347442135,0.0],\"xaxis\":\"x\",\"y\":[-15.0,-15.0,-25.0,-25.0],\"yaxis\":\"y\",\"type\":\"scatter\"},{\"hoverinfo\":\"text\",\"marker\":{\"color\":\"rgb(61,153,112)\"},\"mode\":\"lines\",\"x\":[0.8164753347442135,0.8505184668256773,0.8505184668256773,0.0],\"xaxis\":\"x\",\"y\":[-20.0,-20.0,-35.0,-35.0],\"yaxis\":\"y\",\"type\":\"scatter\"},{\"hoverinfo\":\"text\",\"marker\":{\"color\":\"rgb(61,153,112)\"},\"mode\":\"lines\",\"x\":[0.0,0.864476928834595,0.864476928834595,0.8505184668256773],\"xaxis\":\"x\",\"y\":[-5.0,-5.0,-27.5,-27.5],\"yaxis\":\"y\",\"type\":\"scatter\"},{\"hoverinfo\":\"text\",\"marker\":{\"color\":\"rgb(61,153,112)\"},\"mode\":\"lines\",\"x\":[0.864476928834595,0.908326649356916,0.908326649356916,0.0],\"xaxis\":\"x\",\"y\":[-16.25,-16.25,-45.0,-45.0],\"yaxis\":\"y\",\"type\":\"scatter\"},{\"hoverinfo\":\"text\",\"marker\":{\"color\":\"rgb(255,65,54)\"},\"mode\":\"lines\",\"x\":[0.0,0.7149121413614672,0.7149121413614672,0.0],\"xaxis\":\"x\",\"y\":[-65.0,-65.0,-75.0,-75.0],\"yaxis\":\"y\",\"type\":\"scatter\"},{\"hoverinfo\":\"text\",\"marker\":{\"color\":\"rgb(255,65,54)\"},\"mode\":\"lines\",\"x\":[0.0,0.7766021333891201,0.7766021333891201,0.7149121413614672],\"xaxis\":\"x\",\"y\":[-55.0,-55.0,-70.0,-70.0],\"yaxis\":\"y\",\"type\":\"scatter\"},{\"hoverinfo\":\"text\",\"marker\":{\"color\":\"rgb(255,65,54)\"},\"mode\":\"lines\",\"x\":[0.7766021333891201,0.828955216135829,0.828955216135829,0.0],\"xaxis\":\"x\",\"y\":[-62.5,-62.5,-85.0,-85.0],\"yaxis\":\"y\",\"type\":\"scatter\"},{\"hoverinfo\":\"text\",\"marker\":{\"color\":\"rgb(255,65,54)\"},\"mode\":\"lines\",\"x\":[0.0,0.8956420423633876,0.8956420423633876,0.0],\"xaxis\":\"x\",\"y\":[-95.0,-95.0,-105.0,-105.0],\"yaxis\":\"y\",\"type\":\"scatter\"},{\"hoverinfo\":\"text\",\"marker\":{\"color\":\"rgb(255,65,54)\"},\"mode\":\"lines\",\"x\":[0.828955216135829,0.9423627642889744,0.9423627642889744,0.8956420423633876],\"xaxis\":\"x\",\"y\":[-73.75,-73.75,-100.0,-100.0],\"yaxis\":\"y\",\"type\":\"scatter\"},{\"hoverinfo\":\"text\",\"marker\":{\"color\":\"rgb(0,116,217)\"},\"mode\":\"lines\",\"x\":[0.908326649356916,1.0545708866278523,1.0545708866278523,0.9423627642889744],\"xaxis\":\"x\",\"y\":[-30.625,-30.625,-86.875,-86.875],\"yaxis\":\"y\",\"type\":\"scatter\"},{\"hoverinfo\":\"text\",\"marker\":{\"color\":\"rgb(35,205,205)\"},\"mode\":\"lines\",\"x\":[0.0,0.9195769526189639,0.9195769526189639,0.0],\"xaxis\":\"x\",\"y\":[-115.0,-115.0,-125.0,-125.0],\"yaxis\":\"y\",\"type\":\"scatter\"},{\"hoverinfo\":\"text\",\"marker\":{\"color\":\"rgb(35,205,205)\"},\"mode\":\"lines\",\"x\":[0.9195769526189639,0.9505005058975361,0.9505005058975361,0.0],\"xaxis\":\"x\",\"y\":[-120.0,-120.0,-135.0,-135.0],\"yaxis\":\"y\",\"type\":\"scatter\"},{\"hoverinfo\":\"text\",\"marker\":{\"color\":\"rgb(35,205,205)\"},\"mode\":\"lines\",\"x\":[0.0,0.6899648023437169,0.6899648023437169,0.0],\"xaxis\":\"x\",\"y\":[-155.0,-155.0,-165.0,-165.0],\"yaxis\":\"y\",\"type\":\"scatter\"},{\"hoverinfo\":\"text\",\"marker\":{\"color\":\"rgb(35,205,205)\"},\"mode\":\"lines\",\"x\":[0.6899648023437169,0.7843141473769222,0.7843141473769222,0.0],\"xaxis\":\"x\",\"y\":[-160.0,-160.0,-175.0,-175.0],\"yaxis\":\"y\",\"type\":\"scatter\"},{\"hoverinfo\":\"text\",\"marker\":{\"color\":\"rgb(35,205,205)\"},\"mode\":\"lines\",\"x\":[0.0,0.8630772711938565,0.8630772711938565,0.7843141473769222],\"xaxis\":\"x\",\"y\":[-145.0,-145.0,-167.5,-167.5],\"yaxis\":\"y\",\"type\":\"scatter\"},{\"hoverinfo\":\"text\",\"marker\":{\"color\":\"rgb(35,205,205)\"},\"mode\":\"lines\",\"x\":[0.8630772711938565,0.8859285687684663,0.8859285687684663,0.0],\"xaxis\":\"x\",\"y\":[-156.25,-156.25,-185.0,-185.0],\"yaxis\":\"y\",\"type\":\"scatter\"},{\"hoverinfo\":\"text\",\"marker\":{\"color\":\"rgb(35,205,205)\"},\"mode\":\"lines\",\"x\":[0.0,0.8795516071881926,0.8795516071881926,0.0],\"xaxis\":\"x\",\"y\":[-195.0,-195.0,-205.0,-205.0],\"yaxis\":\"y\",\"type\":\"scatter\"},{\"hoverinfo\":\"text\",\"marker\":{\"color\":\"rgb(35,205,205)\"},\"mode\":\"lines\",\"x\":[0.8859285687684663,0.9106374782033329,0.9106374782033329,0.8795516071881926],\"xaxis\":\"x\",\"y\":[-170.625,-170.625,-200.0,-200.0],\"yaxis\":\"y\",\"type\":\"scatter\"},{\"hoverinfo\":\"text\",\"marker\":{\"color\":\"rgb(35,205,205)\"},\"mode\":\"lines\",\"x\":[0.9505005058975361,0.9951377103090061,0.9951377103090061,0.9106374782033329],\"xaxis\":\"x\",\"y\":[-127.5,-127.5,-185.3125,-185.3125],\"yaxis\":\"y\",\"type\":\"scatter\"},{\"hoverinfo\":\"text\",\"marker\":{\"color\":\"rgb(133,20,75)\"},\"mode\":\"lines\",\"x\":[0.0,0.8480743813100651,0.8480743813100651,0.0],\"xaxis\":\"x\",\"y\":[-215.0,-215.0,-225.0,-225.0],\"yaxis\":\"y\",\"type\":\"scatter\"},{\"hoverinfo\":\"text\",\"marker\":{\"color\":\"rgb(255,220,0)\"},\"mode\":\"lines\",\"x\":[0.0,0.9310423241033549,0.9310423241033549,0.0],\"xaxis\":\"x\",\"y\":[-235.0,-235.0,-245.0,-245.0],\"yaxis\":\"y\",\"type\":\"scatter\"},{\"hoverinfo\":\"text\",\"marker\":{\"color\":\"rgb(40,35,35)\"},\"mode\":\"lines\",\"x\":[0.0,0.9414823290287064,0.9414823290287064,0.0],\"xaxis\":\"x\",\"y\":[-265.0,-265.0,-275.0,-275.0],\"yaxis\":\"y\",\"type\":\"scatter\"},{\"hoverinfo\":\"text\",\"marker\":{\"color\":\"rgb(40,35,35)\"},\"mode\":\"lines\",\"x\":[0.0,0.9833414438335745,0.9833414438335745,0.9414823290287064],\"xaxis\":\"x\",\"y\":[-255.0,-255.0,-270.0,-270.0],\"yaxis\":\"y\",\"type\":\"scatter\"},{\"hoverinfo\":\"text\",\"marker\":{\"color\":\"rgb(0,116,217)\"},\"mode\":\"lines\",\"x\":[0.9310423241033549,1.0017559419610396,1.0017559419610396,0.9833414438335745],\"xaxis\":\"x\",\"y\":[-240.0,-240.0,-262.5,-262.5],\"yaxis\":\"y\",\"type\":\"scatter\"},{\"hoverinfo\":\"text\",\"marker\":{\"color\":\"rgb(0,116,217)\"},\"mode\":\"lines\",\"x\":[1.0017559419610396,1.0075399363097588,1.0075399363097588,0.0],\"xaxis\":\"x\",\"y\":[-251.25,-251.25,-285.0,-285.0],\"yaxis\":\"y\",\"type\":\"scatter\"},{\"hoverinfo\":\"text\",\"marker\":{\"color\":\"rgb(0,116,217)\"},\"mode\":\"lines\",\"x\":[0.8480743813100651,1.0698170725479343,1.0698170725479343,1.0075399363097588],\"xaxis\":\"x\",\"y\":[-220.0,-220.0,-268.125,-268.125],\"yaxis\":\"y\",\"type\":\"scatter\"},{\"hoverinfo\":\"text\",\"marker\":{\"color\":\"rgb(0,116,217)\"},\"mode\":\"lines\",\"x\":[0.9951377103090061,1.1056743997887184,1.1056743997887184,1.0698170725479343],\"xaxis\":\"x\",\"y\":[-156.40625,-156.40625,-244.0625,-244.0625],\"yaxis\":\"y\",\"type\":\"scatter\"},{\"hoverinfo\":\"text\",\"marker\":{\"color\":\"rgb(61,153,112)\"},\"mode\":\"lines\",\"x\":[0.0,0.7070541008420754,0.7070541008420754,0.0],\"xaxis\":\"x\",\"y\":[-295.0,-295.0,-305.0,-305.0],\"yaxis\":\"y\",\"type\":\"scatter\"},{\"hoverinfo\":\"text\",\"marker\":{\"color\":\"rgb(61,153,112)\"},\"mode\":\"lines\",\"x\":[0.7070541008420754,0.8463814387878786,0.8463814387878786,0.0],\"xaxis\":\"x\",\"y\":[-300.0,-300.0,-315.0,-315.0],\"yaxis\":\"y\",\"type\":\"scatter\"},{\"hoverinfo\":\"text\",\"marker\":{\"color\":\"rgb(0,116,217)\"},\"mode\":\"lines\",\"x\":[1.1056743997887184,1.1829301267749948,1.1829301267749948,0.8463814387878786],\"xaxis\":\"x\",\"y\":[-200.234375,-200.234375,-307.5,-307.5],\"yaxis\":\"y\",\"type\":\"scatter\"},{\"hoverinfo\":\"text\",\"marker\":{\"color\":\"rgb(0,116,217)\"},\"mode\":\"lines\",\"x\":[1.0545708866278523,1.5359987381031803,1.5359987381031803,1.1829301267749948],\"xaxis\":\"x\",\"y\":[-58.75,-58.75,-253.8671875,-253.8671875],\"yaxis\":\"y\",\"type\":\"scatter\"}],                        {\"autosize\":false,\"height\":680,\"hovermode\":\"closest\",\"showlegend\":false,\"width\":1000,\"xaxis\":{\"mirror\":\"allticks\",\"rangemode\":\"tozero\",\"showgrid\":false,\"showline\":true,\"showticklabels\":true,\"ticks\":\"outside\",\"type\":\"linear\",\"zeroline\":false},\"yaxis\":{\"mirror\":\"allticks\",\"rangemode\":\"tozero\",\"showgrid\":false,\"showline\":true,\"showticklabels\":true,\"tickmode\":\"array\",\"ticks\":\"outside\",\"ticktext\":[\"12_reuni\\u00e3o_retorno_aulas\",\"15_alimentos_aparecida_pnae\",\"13_inscri\\u00e7\\u00f5es_vagas_cursos\",\"16_t\\u00e9cnica_visita_v\\u00eddeo\",\"5_extens\\u00e3o_an\\u00e1polis_comunica\",\"17_mobilidade_civil_engenha...\",\"14_secitec_ci\\u00eancias_evento\",\"4_computa\\u00e7\\u00e3o_programa\\u00e7\\u00e3o_se...\",\"3_mulher_solid\\u00e1ria_feira\",\"10_negra_consci\\u00eancia_neabi\",\"1_teatro_goi\\u00e2nia_espet\\u00e1culo\",\"24_achei_turma_fut\",\"30_matar_entro_l\\u00edbero\",\"20_dan\\u00e7a_unb_pr\\u00e1tica\",\"22_kkkkk_kkkkkkkkk_kkkkkkkk\",\"27_ifg_passei_medo\",\"8_greve_aula_ifb\",\"31_ifb_calend\\u00e1rio_branca\",\"23_ifms_amigo_ifb\",\"9_almo\\u00e7o_lanchonete_caf\\u00e9\",\"29_pessoas_incr\\u00edveis_vamo\",\"7_douradosms_not\\u00edcias_aceitam\",\"21_ifms_biro_coloquei\",\"2_canal_\\u00e9tica_youtube\",\"6_ifg_amostra_estudado\",\"28_mim_tia_meninas\",\"11_\\u00f4nibus_linha_norte\",\"19_movimento_infantil_educa...\",\"0_brasil_favor_lutando\",\"25_representante_geral_estu...\",\"26_campus_bras\\u00edlia_ifb\",\"18_nascente_sol_pedra\"],\"tickvals\":[-5.0,-15.0,-25.0,-35.0,-45.0,-55.0,-65.0,-75.0,-85.0,-95.0,-105.0,-115.0,-125.0,-135.0,-145.0,-155.0,-165.0,-175.0,-185.0,-195.0,-205.0,-215.0,-225.0,-235.0,-245.0,-255.0,-265.0,-275.0,-285.0,-295.0,-305.0,-315.0],\"type\":\"linear\",\"zeroline\":false,\"range\":[-320.0,0.0]},\"template\":{\"data\":{\"barpolar\":[{\"marker\":{\"line\":{\"color\":\"white\",\"width\":0.5},\"pattern\":{\"fillmode\":\"overlay\",\"size\":10,\"solidity\":0.2}},\"type\":\"barpolar\"}],\"bar\":[{\"error_x\":{\"color\":\"#2a3f5f\"},\"error_y\":{\"color\":\"#2a3f5f\"},\"marker\":{\"line\":{\"color\":\"white\",\"width\":0.5},\"pattern\":{\"fillmode\":\"overlay\",\"size\":10,\"solidity\":0.2}},\"type\":\"bar\"}],\"carpet\":[{\"aaxis\":{\"endlinecolor\":\"#2a3f5f\",\"gridcolor\":\"#C8D4E3\",\"linecolor\":\"#C8D4E3\",\"minorgridcolor\":\"#C8D4E3\",\"startlinecolor\":\"#2a3f5f\"},\"baxis\":{\"endlinecolor\":\"#2a3f5f\",\"gridcolor\":\"#C8D4E3\",\"linecolor\":\"#C8D4E3\",\"minorgridcolor\":\"#C8D4E3\",\"startlinecolor\":\"#2a3f5f\"},\"type\":\"carpet\"}],\"choropleth\":[{\"colorbar\":{\"outlinewidth\":0,\"ticks\":\"\"},\"type\":\"choropleth\"}],\"contourcarpet\":[{\"colorbar\":{\"outlinewidth\":0,\"ticks\":\"\"},\"type\":\"contourcarpet\"}],\"contour\":[{\"colorbar\":{\"outlinewidth\":0,\"ticks\":\"\"},\"colorscale\":[[0.0,\"#0d0887\"],[0.1111111111111111,\"#46039f\"],[0.2222222222222222,\"#7201a8\"],[0.3333333333333333,\"#9c179e\"],[0.4444444444444444,\"#bd3786\"],[0.5555555555555556,\"#d8576b\"],[0.6666666666666666,\"#ed7953\"],[0.7777777777777778,\"#fb9f3a\"],[0.8888888888888888,\"#fdca26\"],[1.0,\"#f0f921\"]],\"type\":\"contour\"}],\"heatmapgl\":[{\"colorbar\":{\"outlinewidth\":0,\"ticks\":\"\"},\"colorscale\":[[0.0,\"#0d0887\"],[0.1111111111111111,\"#46039f\"],[0.2222222222222222,\"#7201a8\"],[0.3333333333333333,\"#9c179e\"],[0.4444444444444444,\"#bd3786\"],[0.5555555555555556,\"#d8576b\"],[0.6666666666666666,\"#ed7953\"],[0.7777777777777778,\"#fb9f3a\"],[0.8888888888888888,\"#fdca26\"],[1.0,\"#f0f921\"]],\"type\":\"heatmapgl\"}],\"heatmap\":[{\"colorbar\":{\"outlinewidth\":0,\"ticks\":\"\"},\"colorscale\":[[0.0,\"#0d0887\"],[0.1111111111111111,\"#46039f\"],[0.2222222222222222,\"#7201a8\"],[0.3333333333333333,\"#9c179e\"],[0.4444444444444444,\"#bd3786\"],[0.5555555555555556,\"#d8576b\"],[0.6666666666666666,\"#ed7953\"],[0.7777777777777778,\"#fb9f3a\"],[0.8888888888888888,\"#fdca26\"],[1.0,\"#f0f921\"]],\"type\":\"heatmap\"}],\"histogram2dcontour\":[{\"colorbar\":{\"outlinewidth\":0,\"ticks\":\"\"},\"colorscale\":[[0.0,\"#0d0887\"],[0.1111111111111111,\"#46039f\"],[0.2222222222222222,\"#7201a8\"],[0.3333333333333333,\"#9c179e\"],[0.4444444444444444,\"#bd3786\"],[0.5555555555555556,\"#d8576b\"],[0.6666666666666666,\"#ed7953\"],[0.7777777777777778,\"#fb9f3a\"],[0.8888888888888888,\"#fdca26\"],[1.0,\"#f0f921\"]],\"type\":\"histogram2dcontour\"}],\"histogram2d\":[{\"colorbar\":{\"outlinewidth\":0,\"ticks\":\"\"},\"colorscale\":[[0.0,\"#0d0887\"],[0.1111111111111111,\"#46039f\"],[0.2222222222222222,\"#7201a8\"],[0.3333333333333333,\"#9c179e\"],[0.4444444444444444,\"#bd3786\"],[0.5555555555555556,\"#d8576b\"],[0.6666666666666666,\"#ed7953\"],[0.7777777777777778,\"#fb9f3a\"],[0.8888888888888888,\"#fdca26\"],[1.0,\"#f0f921\"]],\"type\":\"histogram2d\"}],\"histogram\":[{\"marker\":{\"pattern\":{\"fillmode\":\"overlay\",\"size\":10,\"solidity\":0.2}},\"type\":\"histogram\"}],\"mesh3d\":[{\"colorbar\":{\"outlinewidth\":0,\"ticks\":\"\"},\"type\":\"mesh3d\"}],\"parcoords\":[{\"line\":{\"colorbar\":{\"outlinewidth\":0,\"ticks\":\"\"}},\"type\":\"parcoords\"}],\"pie\":[{\"automargin\":true,\"type\":\"pie\"}],\"scatter3d\":[{\"line\":{\"colorbar\":{\"outlinewidth\":0,\"ticks\":\"\"}},\"marker\":{\"colorbar\":{\"outlinewidth\":0,\"ticks\":\"\"}},\"type\":\"scatter3d\"}],\"scattercarpet\":[{\"marker\":{\"colorbar\":{\"outlinewidth\":0,\"ticks\":\"\"}},\"type\":\"scattercarpet\"}],\"scattergeo\":[{\"marker\":{\"colorbar\":{\"outlinewidth\":0,\"ticks\":\"\"}},\"type\":\"scattergeo\"}],\"scattergl\":[{\"marker\":{\"colorbar\":{\"outlinewidth\":0,\"ticks\":\"\"}},\"type\":\"scattergl\"}],\"scattermapbox\":[{\"marker\":{\"colorbar\":{\"outlinewidth\":0,\"ticks\":\"\"}},\"type\":\"scattermapbox\"}],\"scatterpolargl\":[{\"marker\":{\"colorbar\":{\"outlinewidth\":0,\"ticks\":\"\"}},\"type\":\"scatterpolargl\"}],\"scatterpolar\":[{\"marker\":{\"colorbar\":{\"outlinewidth\":0,\"ticks\":\"\"}},\"type\":\"scatterpolar\"}],\"scatter\":[{\"fillpattern\":{\"fillmode\":\"overlay\",\"size\":10,\"solidity\":0.2},\"type\":\"scatter\"}],\"scatterternary\":[{\"marker\":{\"colorbar\":{\"outlinewidth\":0,\"ticks\":\"\"}},\"type\":\"scatterternary\"}],\"surface\":[{\"colorbar\":{\"outlinewidth\":0,\"ticks\":\"\"},\"colorscale\":[[0.0,\"#0d0887\"],[0.1111111111111111,\"#46039f\"],[0.2222222222222222,\"#7201a8\"],[0.3333333333333333,\"#9c179e\"],[0.4444444444444444,\"#bd3786\"],[0.5555555555555556,\"#d8576b\"],[0.6666666666666666,\"#ed7953\"],[0.7777777777777778,\"#fb9f3a\"],[0.8888888888888888,\"#fdca26\"],[1.0,\"#f0f921\"]],\"type\":\"surface\"}],\"table\":[{\"cells\":{\"fill\":{\"color\":\"#EBF0F8\"},\"line\":{\"color\":\"white\"}},\"header\":{\"fill\":{\"color\":\"#C8D4E3\"},\"line\":{\"color\":\"white\"}},\"type\":\"table\"}]},\"layout\":{\"annotationdefaults\":{\"arrowcolor\":\"#2a3f5f\",\"arrowhead\":0,\"arrowwidth\":1},\"autotypenumbers\":\"strict\",\"coloraxis\":{\"colorbar\":{\"outlinewidth\":0,\"ticks\":\"\"}},\"colorscale\":{\"diverging\":[[0,\"#8e0152\"],[0.1,\"#c51b7d\"],[0.2,\"#de77ae\"],[0.3,\"#f1b6da\"],[0.4,\"#fde0ef\"],[0.5,\"#f7f7f7\"],[0.6,\"#e6f5d0\"],[0.7,\"#b8e186\"],[0.8,\"#7fbc41\"],[0.9,\"#4d9221\"],[1,\"#276419\"]],\"sequential\":[[0.0,\"#0d0887\"],[0.1111111111111111,\"#46039f\"],[0.2222222222222222,\"#7201a8\"],[0.3333333333333333,\"#9c179e\"],[0.4444444444444444,\"#bd3786\"],[0.5555555555555556,\"#d8576b\"],[0.6666666666666666,\"#ed7953\"],[0.7777777777777778,\"#fb9f3a\"],[0.8888888888888888,\"#fdca26\"],[1.0,\"#f0f921\"]],\"sequentialminus\":[[0.0,\"#0d0887\"],[0.1111111111111111,\"#46039f\"],[0.2222222222222222,\"#7201a8\"],[0.3333333333333333,\"#9c179e\"],[0.4444444444444444,\"#bd3786\"],[0.5555555555555556,\"#d8576b\"],[0.6666666666666666,\"#ed7953\"],[0.7777777777777778,\"#fb9f3a\"],[0.8888888888888888,\"#fdca26\"],[1.0,\"#f0f921\"]]},\"colorway\":[\"#636efa\",\"#EF553B\",\"#00cc96\",\"#ab63fa\",\"#FFA15A\",\"#19d3f3\",\"#FF6692\",\"#B6E880\",\"#FF97FF\",\"#FECB52\"],\"font\":{\"color\":\"#2a3f5f\"},\"geo\":{\"bgcolor\":\"white\",\"lakecolor\":\"white\",\"landcolor\":\"white\",\"showlakes\":true,\"showland\":true,\"subunitcolor\":\"#C8D4E3\"},\"hoverlabel\":{\"align\":\"left\"},\"hovermode\":\"closest\",\"mapbox\":{\"style\":\"light\"},\"paper_bgcolor\":\"white\",\"plot_bgcolor\":\"white\",\"polar\":{\"angularaxis\":{\"gridcolor\":\"#EBF0F8\",\"linecolor\":\"#EBF0F8\",\"ticks\":\"\"},\"bgcolor\":\"white\",\"radialaxis\":{\"gridcolor\":\"#EBF0F8\",\"linecolor\":\"#EBF0F8\",\"ticks\":\"\"}},\"scene\":{\"xaxis\":{\"backgroundcolor\":\"white\",\"gridcolor\":\"#DFE8F3\",\"gridwidth\":2,\"linecolor\":\"#EBF0F8\",\"showbackground\":true,\"ticks\":\"\",\"zerolinecolor\":\"#EBF0F8\"},\"yaxis\":{\"backgroundcolor\":\"white\",\"gridcolor\":\"#DFE8F3\",\"gridwidth\":2,\"linecolor\":\"#EBF0F8\",\"showbackground\":true,\"ticks\":\"\",\"zerolinecolor\":\"#EBF0F8\"},\"zaxis\":{\"backgroundcolor\":\"white\",\"gridcolor\":\"#DFE8F3\",\"gridwidth\":2,\"linecolor\":\"#EBF0F8\",\"showbackground\":true,\"ticks\":\"\",\"zerolinecolor\":\"#EBF0F8\"}},\"shapedefaults\":{\"line\":{\"color\":\"#2a3f5f\"}},\"ternary\":{\"aaxis\":{\"gridcolor\":\"#DFE8F3\",\"linecolor\":\"#A2B1C6\",\"ticks\":\"\"},\"baxis\":{\"gridcolor\":\"#DFE8F3\",\"linecolor\":\"#A2B1C6\",\"ticks\":\"\"},\"bgcolor\":\"white\",\"caxis\":{\"gridcolor\":\"#DFE8F3\",\"linecolor\":\"#A2B1C6\",\"ticks\":\"\"}},\"title\":{\"x\":0.05},\"xaxis\":{\"automargin\":true,\"gridcolor\":\"#EBF0F8\",\"linecolor\":\"#EBF0F8\",\"ticks\":\"\",\"title\":{\"standoff\":15},\"zerolinecolor\":\"#EBF0F8\",\"zerolinewidth\":2},\"yaxis\":{\"automargin\":true,\"gridcolor\":\"#EBF0F8\",\"linecolor\":\"#EBF0F8\",\"ticks\":\"\",\"title\":{\"standoff\":15},\"zerolinecolor\":\"#EBF0F8\",\"zerolinewidth\":2}}},\"title\":{\"font\":{\"size\":22,\"color\":\"Black\"},\"text\":\"\\u003cb\\u003eHierarchical Clustering\\u003c\\u002fb\\u003e\",\"x\":0.5,\"xanchor\":\"center\",\"yanchor\":\"top\"},\"hoverlabel\":{\"font\":{\"size\":16,\"family\":\"Rockwell\"},\"bgcolor\":\"white\"},\"plot_bgcolor\":\"#ECEFF1\"},                        {\"responsive\": true}                    ).then(function(){\n",
       "                            \n",
       "var gd = document.getElementById('23fae1d9-b173-4ae1-95a2-b5a2bdaa7150');\n",
       "var x = new MutationObserver(function (mutations, observer) {{\n",
       "        var display = window.getComputedStyle(gd).display;\n",
       "        if (!display || display === 'none') {{\n",
       "            console.log([gd, 'removed!']);\n",
       "            Plotly.purge(gd);\n",
       "            observer.disconnect();\n",
       "        }}\n",
       "}});\n",
       "\n",
       "// Listen for the removal of the full notebook cells\n",
       "var notebookContainer = gd.closest('#notebook-container');\n",
       "if (notebookContainer) {{\n",
       "    x.observe(notebookContainer, {childList: true});\n",
       "}}\n",
       "\n",
       "// Listen for the clearing of the current output cell\n",
       "var outputEl = gd.closest('.output');\n",
       "if (outputEl) {{\n",
       "    x.observe(outputEl, {childList: true});\n",
       "}}\n",
       "\n",
       "                        })                };                });            </script>        </div>"
      ]
     },
     "metadata": {},
     "output_type": "display_data"
    }
   ],
   "source": [
    "# Visualizar a hierarquia de tópicos\n",
    "topic_model.visualize_hierarchy()"
   ]
  },
  {
   "cell_type": "code",
   "execution_count": 31,
   "metadata": {},
   "outputs": [
    {
     "name": "stdout",
     "output_type": "stream",
     "text": [
      "    Tópicos - Região Centro-Oeste  \\\n",
      "0                               0   \n",
      "1                               1   \n",
      "2                               2   \n",
      "3                               3   \n",
      "4                               4   \n",
      "5                               5   \n",
      "6                               6   \n",
      "7                               7   \n",
      "8                               8   \n",
      "9                               9   \n",
      "10                             10   \n",
      "11                             11   \n",
      "12                             12   \n",
      "13                             13   \n",
      "14                             14   \n",
      "15                             15   \n",
      "16                             16   \n",
      "17                             17   \n",
      "18                             18   \n",
      "19                             19   \n",
      "20                             20   \n",
      "21                             21   \n",
      "22                             22   \n",
      "23                             23   \n",
      "24                             24   \n",
      "25                             25   \n",
      "26                             26   \n",
      "27                             27   \n",
      "28                             28   \n",
      "29                             29   \n",
      "30                             30   \n",
      "31                             31   \n",
      "\n",
      "                                  Palavras Principais  \n",
      "0            brasil, favor, lutando, conquistar, vote  \n",
      "1       teatro, goiânia, espetáculo, câmpus, concerto  \n",
      "2            canal, ética, youtube, prevenção, sexual  \n",
      "3           mulher, solidária, feira, economia, troca  \n",
      "4   computação, programação, semana, anápolis, coj...  \n",
      "5   extensão, anápolis, comunica, coordenada, projeto  \n",
      "6            ifg, amostra, estudado, fraco, estudando  \n",
      "7         douradosms, notícias, aceitam, região, ifms  \n",
      "8                   greve, aula, ifb, ifms, faculdade  \n",
      "9                almoço, lanchonete, café, ifb, tomar  \n",
      "10            negra, consciência, neabi, estudos, mês  \n",
      "11            ônibus, linha, norte, taguatinga, passa  \n",
      "12                 reunião, retorno, aulas, após, fim  \n",
      "13        inscrições, vagas, cursos, seleção, abertas  \n",
      "14      secitec, ciências, evento, semana, tecnologia  \n",
      "15  alimentos, aparecida, pnae, agricultores, mini...  \n",
      "16            técnica, visita, vídeo, anápolis, sobre  \n",
      "17     mobilidade, civil, engenharia, vii, ciclístico  \n",
      "18            nascente, sol, pedra, fundamental, lula  \n",
      "19       movimento, infantil, educação, tema, mostrar  \n",
      "20              dança, unb, prática, ifb, experiência  \n",
      "21              ifms, biro, coloquei, francês, cabeça  \n",
      "22     kkkkk, kkkkkkkkk, kkkkkkkk, kkkkkkkkkk, kkkkkk  \n",
      "23                    ifms, amigo, ifb, causa, férias  \n",
      "24             achei, turma, fut, figura, coikidmrwpb  \n",
      "25  representante, geral, estudantes, brasília, fe...  \n",
      "26               campus, brasília, ifb, reitora, gama  \n",
      "27                       ifg, passei, medo, vida, ifb  \n",
      "28                   mim, tia, meninas, preta, cabelo  \n",
      "29           pessoas, incríveis, vamo, amiga, amizade  \n",
      "30                 matar, entro, líbero, repetir, dnv  \n",
      "31               ifb, calendário, branca, culpa, deus  \n"
     ]
    }
   ],
   "source": [
    "# Extração das palavras principais de cada tópico\n",
    "topic_info = topic_model.get_topic_info()\n",
    "data = []\n",
    "\n",
    "for topic_id in topic_info[\"Topic\"]:\n",
    "    if topic_id == -1:\n",
    "        continue  # Ignorar outliers\n",
    "    words = topic_model.get_topic(topic_id)[:5]  # Pegar as 3 palavras principais\n",
    "    keywords = \", \".join([word[0] for word in words])  # Apenas as palavras\n",
    "    data.append([topic_id, keywords])\n",
    "\n",
    "# Criar DataFrame e exibir\n",
    "df_topics = pd.DataFrame(data, columns=[\"Tópicos - Região Centro-Oeste\", \"Palavras Principais\"])\n",
    "print(df_topics)"
   ]
  },
  {
   "cell_type": "code",
   "execution_count": 32,
   "metadata": {},
   "outputs": [
    {
     "data": {
      "image/png": "[encoded data removed]",
      "text/plain": [
       "<Figure size 600x300 with 1 Axes>"
      ]
     },
     "metadata": {},
     "output_type": "display_data"
    }
   ],
   "source": [
    "# Criar a tabela\n",
    "fig, ax = plt.subplots(figsize=(6, 3))\n",
    "ax.axis(\"tight\")\n",
    "ax.axis(\"off\")\n",
    "table = ax.table(cellText=df_topics.values, colLabels=df_topics.columns, cellLoc=\"center\", loc=\"center\")\n",
    "\n",
    "# Salvar imagem\n",
    "plt.savefig(\"tabela_topicos_centro_oeste.png\", bbox_inches=\"tight\", dpi=300)\n",
    "plt.show()"
   ]
  }
 ],
 "metadata": {
  "accelerator": "GPU",
  "colab": {
   "collapsed_sections": [
    "q-jcVg0rTXG7",
    "btiHYgTZT_i_",
    "eZ2tk0mi1jAW",
    "7pzTYkEgWoH6",
    "AVZFuajh1YGm",
    "wo2Vl6CXUIPL",
    "-8c_56YL4EGG",
    "37Lb1aQ44VPA",
    "qERrrkBE_Ijb",
    "rUrI9IRv4dcX",
    "EHffa3RFbfL2",
    "KF11Q5zhHrSe",
    "K9DgcI_THm3R",
    "ToESNsSTIZBh",
    "6yZf9FObJRET"
   ],
   "gpuType": "T4",
   "provenance": []
  },
  "kernelspec": {
   "display_name": "Python 3 (ipykernel)",
   "language": "python",
   "name": "python3"
  },
  "language_info": {
   "codemirror_mode": {
    "name": "ipython",
    "version": 3
   },
   "file_extension": ".py",
   "mimetype": "text/x-python",
   "name": "python",
   "nbconvert_exporter": "python",
   "pygments_lexer": "ipython3",
   "version": "3.10.12"
  }
 },
 "nbformat": 4,
 "nbformat_minor": 4
}
